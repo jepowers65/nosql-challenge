{
 "cells": [
  {
   "cell_type": "markdown",
   "id": "9a57c4c6",
   "metadata": {},
   "source": [
    "# Eat Safe, Love"
   ]
  },
  {
   "cell_type": "markdown",
   "id": "064ef857",
   "metadata": {},
   "source": [
    "## Part 1: Database and Jupyter Notebook Set Up"
   ]
  },
  {
   "cell_type": "markdown",
   "id": "664e3c1f",
   "metadata": {},
   "source": [
    "Import the data provided in the `establishments.json` file from your Terminal. Name the database `uk_food` and the collection `establishments`.\n",
    "\n",
    "Within this markdown cell, copy the line of text you used to import the data from your Terminal. This way, future analysts will be able to repeat your process.\n",
    "\n",
    "e.g.: Import the dataset with mongoimport --type json -d uk_food -c establishments --drop --jsonArray establishments.json"
   ]
  },
  {
   "cell_type": "code",
   "execution_count": 1,
   "id": "3ecdd008",
   "metadata": {},
   "outputs": [],
   "source": [
    "# Import dependencies\n",
    "from pymongo import MongoClient\n",
    "from pprint import pprint"
   ]
  },
  {
   "cell_type": "code",
   "execution_count": 2,
   "id": "59390c4a",
   "metadata": {},
   "outputs": [],
   "source": [
    "# Create an instance of MongoClient\n",
    "mongo = MongoClient(port=27017)"
   ]
  },
  {
   "cell_type": "code",
   "execution_count": 3,
   "id": "7f9ececa",
   "metadata": {},
   "outputs": [
    {
     "name": "stdout",
     "output_type": "stream",
     "text": [
      "['admin', 'config', 'local', 'met', 'uk_food']\n"
     ]
    }
   ],
   "source": [
    "# confirm that our new database was created\n",
    "print(mongo.list_database_names())"
   ]
  },
  {
   "cell_type": "code",
   "execution_count": 4,
   "id": "71e373c1",
   "metadata": {},
   "outputs": [],
   "source": [
    "# assign the uk_food database to a variable name\n",
    "db = mongo['uk_food']"
   ]
  },
  {
   "cell_type": "code",
   "execution_count": 5,
   "id": "ef1b89ed",
   "metadata": {},
   "outputs": [
    {
     "name": "stdout",
     "output_type": "stream",
     "text": [
      "['establishments']\n"
     ]
    }
   ],
   "source": [
    "# review the collections in our new database\n",
    "print(db.list_collection_names())"
   ]
  },
  {
   "cell_type": "code",
   "execution_count": 6,
   "id": "6a0d92df",
   "metadata": {},
   "outputs": [
    {
     "name": "stdout",
     "output_type": "stream",
     "text": [
      "{'AddressLine1': 'The Bay',\n",
      " 'AddressLine2': 'St Margarets Bay',\n",
      " 'AddressLine3': 'Kent',\n",
      " 'AddressLine4': '',\n",
      " 'BusinessName': 'Refreshment Kiosk',\n",
      " 'BusinessType': 'Restaurant/Cafe/Canteen',\n",
      " 'BusinessTypeID': 1,\n",
      " 'ChangesByServerID': 0,\n",
      " 'Distance': 4587.347174863443,\n",
      " 'FHRSID': 254719,\n",
      " 'LocalAuthorityBusinessID': 'PI/000069980',\n",
      " 'LocalAuthorityCode': '182',\n",
      " 'LocalAuthorityEmailAddress': 'publicprotection@dover.gov.uk',\n",
      " 'LocalAuthorityName': 'Dover',\n",
      " 'LocalAuthorityWebSite': 'http://www.dover.gov.uk/',\n",
      " 'NewRatingPending': False,\n",
      " 'Phone': '',\n",
      " 'PostCode': 'CT15 6DY',\n",
      " 'RatingDate': '2022-03-24T00:00:00',\n",
      " 'RatingKey': 'fhrs_5_en-gb',\n",
      " 'RatingValue': '5',\n",
      " 'RightToReply': '',\n",
      " 'SchemeType': 'FHRS',\n",
      " '_id': ObjectId('6498904a24b97107a60c0eda'),\n",
      " 'geocode': {'latitude': '51.152225', 'longitude': '1.387974'},\n",
      " 'links': [{'href': 'https://api.ratings.food.gov.uk/establishments/254719',\n",
      "            'rel': 'self'}],\n",
      " 'meta': {'dataSource': None,\n",
      "          'extractDate': '0001-01-01T00:00:00',\n",
      "          'itemCount': 0,\n",
      "          'pageNumber': 0,\n",
      "          'pageSize': 0,\n",
      "          'returncode': None,\n",
      "          'totalCount': 0,\n",
      "          'totalPages': 0},\n",
      " 'scores': {'ConfidenceInManagement': 5, 'Hygiene': 0, 'Structural': 5}}\n"
     ]
    }
   ],
   "source": [
    "# review a document in the establishments collection\n",
    "pprint(db.establishments.find_one())"
   ]
  },
  {
   "cell_type": "code",
   "execution_count": 7,
   "id": "11c9f11b",
   "metadata": {},
   "outputs": [],
   "source": [
    "# assign the collection to a variable\n",
    "establishments = db['establishments']"
   ]
  },
  {
   "cell_type": "markdown",
   "id": "d5671434",
   "metadata": {},
   "source": [
    "## Part 2: Update the Database"
   ]
  },
  {
   "cell_type": "markdown",
   "id": "314bd884",
   "metadata": {},
   "source": [
    "1. An exciting new halal restaurant just opened in Greenwich, but hasn't been rated yet. The magazine has asked you to include it in your analysis. Add the following restaurant \"Penang Flavours\" to the database."
   ]
  },
  {
   "cell_type": "code",
   "execution_count": 8,
   "id": "c2da7648",
   "metadata": {},
   "outputs": [],
   "source": [
    "# Create a dictionary for the new restaurant data\n",
    "New_restaurant = {\n",
    "    \"BusinessName\":\"Penang Flavours\",\n",
    "    \"BusinessType\":\"Restaurant/Cafe/Canteen\",\n",
    "    \"BusinessTypeID\":\"\",\n",
    "    \"AddressLine1\":\"Penang Flavours\",\n",
    "    \"AddressLine2\":\"146A Plumstead Rd\",\n",
    "    \"AddressLine3\":\"London\",\n",
    "    \"AddressLine4\":\"\",\n",
    "    \"PostCode\":\"SE18 7DY\",\n",
    "    \"Phone\":\"\",\n",
    "    \"LocalAuthorityCode\":\"511\",\n",
    "    \"LocalAuthorityName\":\"Greenwich\",\n",
    "    \"LocalAuthorityWebSite\":\"http://www.royalgreenwich.gov.uk\",\n",
    "    \"LocalAuthorityEmailAddress\":\"health@royalgreenwich.gov.uk\",\n",
    "    \"scores\":{\n",
    "        \"Hygiene\":\"\",\n",
    "        \"Structural\":\"\",\n",
    "        \"ConfidenceInManagement\":\"\"\n",
    "    },\n",
    "    \"SchemeType\":\"FHRS\",\n",
    "    \"geocode\":{\n",
    "        \"longitude\":\"0.08384000\",\n",
    "        \"latitude\":\"51.49014200\"\n",
    "    },\n",
    "    \"RightToReply\":\"\",\n",
    "    \"Distance\":4623.9723280747176,\n",
    "    \"NewRatingPending\":True\n",
    "}"
   ]
  },
  {
   "cell_type": "code",
   "execution_count": 9,
   "id": "a6e5cece",
   "metadata": {},
   "outputs": [
    {
     "data": {
      "text/plain": [
       "<pymongo.results.InsertOneResult at 0x21c2ac48970>"
      ]
     },
     "execution_count": 9,
     "metadata": {},
     "output_type": "execute_result"
    }
   ],
   "source": [
    "# Insert the new restaurant into the collection\n",
    "establishments.insert_one(New_restaurant)"
   ]
  },
  {
   "cell_type": "code",
   "execution_count": 10,
   "id": "63bb10f9",
   "metadata": {},
   "outputs": [
    {
     "name": "stdout",
     "output_type": "stream",
     "text": [
      "{'AddressLine1': 'Penang Flavours',\n",
      " 'AddressLine2': '146A Plumstead Rd',\n",
      " 'AddressLine3': 'London',\n",
      " 'AddressLine4': '',\n",
      " 'BusinessName': 'Penang Flavours',\n",
      " 'BusinessType': 'Restaurant/Cafe/Canteen',\n",
      " 'BusinessTypeID': '',\n",
      " 'Distance': 4623.972328074718,\n",
      " 'LocalAuthorityCode': '511',\n",
      " 'LocalAuthorityEmailAddress': 'health@royalgreenwich.gov.uk',\n",
      " 'LocalAuthorityName': 'Greenwich',\n",
      " 'LocalAuthorityWebSite': 'http://www.royalgreenwich.gov.uk',\n",
      " 'NewRatingPending': True,\n",
      " 'Phone': '',\n",
      " 'PostCode': 'SE18 7DY',\n",
      " 'RightToReply': '',\n",
      " 'SchemeType': 'FHRS',\n",
      " '_id': ObjectId('6498906e3ea11d7eacfc0c53'),\n",
      " 'geocode': {'latitude': '51.49014200', 'longitude': '0.08384000'},\n",
      " 'scores': {'ConfidenceInManagement': '', 'Hygiene': '', 'Structural': ''}}\n"
     ]
    }
   ],
   "source": [
    "# Check that the new restaurant was inserted\n",
    "pprint(db.establishments.find_one(New_restaurant))"
   ]
  },
  {
   "cell_type": "markdown",
   "id": "0ef4395a",
   "metadata": {},
   "source": [
    "2. Find the BusinessTypeID for \"Restaurant/Cafe/Canteen\" and return only the `BusinessTypeID` and `BusinessType` fields."
   ]
  },
  {
   "cell_type": "code",
   "execution_count": 11,
   "id": "93c63829",
   "metadata": {},
   "outputs": [
    {
     "data": {
      "text/plain": [
       "{'_id': ObjectId('6498904a24b97107a60c0eda'),\n",
       " 'BusinessType': 'Restaurant/Cafe/Canteen',\n",
       " 'BusinessTypeID': 1}"
      ]
     },
     "execution_count": 11,
     "metadata": {},
     "output_type": "execute_result"
    }
   ],
   "source": [
    "# Find the BusinessTypeID for \"Restaurant/Cafe/Canteen\" and return only the BusinessTypeID and BusinessType fields\n",
    "query = {\"BusinessType\": \"Restaurant/Cafe/Canteen\"}\n",
    "field = [\"BusinessTypeID\", \"BusinessType\"]\n",
    "\n",
    "establishments.find_one(query, field)"
   ]
  },
  {
   "cell_type": "markdown",
   "id": "4e570caf",
   "metadata": {},
   "source": [
    "3. Update the new restaurant with the `BusinessTypeID` you found."
   ]
  },
  {
   "cell_type": "code",
   "execution_count": 12,
   "id": "7f599f3d",
   "metadata": {},
   "outputs": [
    {
     "data": {
      "text/plain": [
       "<pymongo.results.UpdateResult at 0x21c2ac4b490>"
      ]
     },
     "execution_count": 12,
     "metadata": {},
     "output_type": "execute_result"
    }
   ],
   "source": [
    "# Update the new restaurant with the correct BusinessTypeID\n",
    "establishments.update_one(\n",
    "   New_restaurant,\n",
    "    {\"$set\":\n",
    "    {\"BusinessTypeID\": 1}\n",
    "    }\n",
    ")"
   ]
  },
  {
   "cell_type": "code",
   "execution_count": 13,
   "id": "a6ad16f7",
   "metadata": {},
   "outputs": [
    {
     "data": {
      "text/plain": [
       "{'_id': ObjectId('6498906e3ea11d7eacfc0c53'),\n",
       " 'BusinessName': 'Penang Flavours',\n",
       " 'BusinessType': 'Restaurant/Cafe/Canteen',\n",
       " 'BusinessTypeID': 1,\n",
       " 'AddressLine1': 'Penang Flavours',\n",
       " 'AddressLine2': '146A Plumstead Rd',\n",
       " 'AddressLine3': 'London',\n",
       " 'AddressLine4': '',\n",
       " 'PostCode': 'SE18 7DY',\n",
       " 'Phone': '',\n",
       " 'LocalAuthorityCode': '511',\n",
       " 'LocalAuthorityName': 'Greenwich',\n",
       " 'LocalAuthorityWebSite': 'http://www.royalgreenwich.gov.uk',\n",
       " 'LocalAuthorityEmailAddress': 'health@royalgreenwich.gov.uk',\n",
       " 'scores': {'Hygiene': '', 'Structural': '', 'ConfidenceInManagement': ''},\n",
       " 'SchemeType': 'FHRS',\n",
       " 'geocode': {'longitude': '0.08384000', 'latitude': '51.49014200'},\n",
       " 'RightToReply': '',\n",
       " 'Distance': 4623.972328074718,\n",
       " 'NewRatingPending': True}"
      ]
     },
     "execution_count": 13,
     "metadata": {},
     "output_type": "execute_result"
    }
   ],
   "source": [
    "# Confirm that the new restaurant was updated\n",
    "establishments.find_one({'BusinessName': 'Penang Flavours'})"
   ]
  },
  {
   "cell_type": "markdown",
   "id": "67281254",
   "metadata": {},
   "source": [
    "4. The magazine is not interested in any establishments in Dover, so check how many documents contain the Dover Local Authority. Then, remove any establishments within the Dover Local Authority from the database, and check the number of documents to ensure they were deleted."
   ]
  },
  {
   "cell_type": "code",
   "execution_count": 14,
   "id": "768474a6",
   "metadata": {},
   "outputs": [
    {
     "data": {
      "text/plain": [
       "994"
      ]
     },
     "execution_count": 14,
     "metadata": {},
     "output_type": "execute_result"
    }
   ],
   "source": [
    "# Find how many documents have LocalAuthorityName as \"Dover\"\n",
    "establishments.count_documents({'LocalAuthorityName': 'Dover'})\n"
   ]
  },
  {
   "cell_type": "code",
   "execution_count": 15,
   "id": "a11d5f1b",
   "metadata": {},
   "outputs": [
    {
     "data": {
      "text/plain": [
       "<pymongo.results.DeleteResult at 0x21c2c8ab280>"
      ]
     },
     "execution_count": 15,
     "metadata": {},
     "output_type": "execute_result"
    }
   ],
   "source": [
    "# Delete all documents where LocalAuthorityName is \"Dover\"\n",
    "establishments.delete_many({'LocalAuthorityName': 'Dover'})"
   ]
  },
  {
   "cell_type": "code",
   "execution_count": 16,
   "id": "2a51aba0",
   "metadata": {},
   "outputs": [
    {
     "data": {
      "text/plain": [
       "0"
      ]
     },
     "execution_count": 16,
     "metadata": {},
     "output_type": "execute_result"
    }
   ],
   "source": [
    "# Check if any remaining documents include Dover\n",
    "establishments.count_documents({'LocalAuthorityName': 'Dover'})"
   ]
  },
  {
   "cell_type": "code",
   "execution_count": 17,
   "id": "8c356f7b",
   "metadata": {},
   "outputs": [
    {
     "data": {
      "text/plain": [
       "{'_id': ObjectId('6498904a24b97107a60c11c1'),\n",
       " 'FHRSID': 1043695,\n",
       " 'ChangesByServerID': 0,\n",
       " 'LocalAuthorityBusinessID': 'PI/000073616',\n",
       " 'BusinessName': 'The Pavilion',\n",
       " 'BusinessType': 'Restaurant/Cafe/Canteen',\n",
       " 'BusinessTypeID': 1,\n",
       " 'AddressLine1': 'East Cliff Pavilion',\n",
       " 'AddressLine2': 'Wear Bay Road',\n",
       " 'AddressLine3': 'Folkestone',\n",
       " 'AddressLine4': 'Kent',\n",
       " 'PostCode': 'CT19 6BL',\n",
       " 'Phone': '',\n",
       " 'RatingValue': '5',\n",
       " 'RatingKey': 'fhrs_5_en-gb',\n",
       " 'RatingDate': '2018-04-04T00:00:00',\n",
       " 'LocalAuthorityCode': '188',\n",
       " 'LocalAuthorityName': 'Folkestone and Hythe',\n",
       " 'LocalAuthorityWebSite': 'http://www.folkestone-hythe.gov.uk',\n",
       " 'LocalAuthorityEmailAddress': 'foodteam@folkestone-hythe.gov.uk',\n",
       " 'scores': {'Hygiene': 5, 'Structural': 5, 'ConfidenceInManagement': 5},\n",
       " 'SchemeType': 'FHRS',\n",
       " 'geocode': {'longitude': '1.195625', 'latitude': '51.083812'},\n",
       " 'RightToReply': '',\n",
       " 'Distance': 4591.765489457773,\n",
       " 'NewRatingPending': False,\n",
       " 'meta': {'dataSource': None,\n",
       "  'extractDate': '0001-01-01T00:00:00',\n",
       "  'itemCount': 0,\n",
       "  'returncode': None,\n",
       "  'totalCount': 0,\n",
       "  'totalPages': 0,\n",
       "  'pageSize': 0,\n",
       "  'pageNumber': 0},\n",
       " 'links': [{'rel': 'self',\n",
       "   'href': 'https://api.ratings.food.gov.uk/establishments/1043695'}]}"
      ]
     },
     "execution_count": 17,
     "metadata": {},
     "output_type": "execute_result"
    }
   ],
   "source": [
    "# Check that other documents remain with 'find_one'\n",
    "establishments.find_one({})"
   ]
  },
  {
   "cell_type": "markdown",
   "id": "e9f1662d",
   "metadata": {},
   "source": [
    "5. Some of the number values are stored as strings, when they should be stored as numbers."
   ]
  },
  {
   "cell_type": "markdown",
   "id": "c46df2df",
   "metadata": {},
   "source": [
    "Use `update_many` to convert `latitude` and `longitude` to decimal numbers."
   ]
  },
  {
   "cell_type": "code",
   "execution_count": 18,
   "id": "fd4112ce",
   "metadata": {},
   "outputs": [
    {
     "data": {
      "text/plain": [
       "<pymongo.results.UpdateResult at 0x21c2abcc370>"
      ]
     },
     "execution_count": 18,
     "metadata": {},
     "output_type": "execute_result"
    }
   ],
   "source": [
    "# Change the data type from String to Decimal for longitude and latitude\n",
    "establishments.update_many({}, [ {'$set': {'geocode.longitude': {'$toDouble': '$geocode.longitude'},\n",
    "                                  'geocode.latitude': {'$toDouble': '$geocode.latitude'}\n",
    "                                          }}])"
   ]
  },
  {
   "cell_type": "markdown",
   "id": "142e319c",
   "metadata": {},
   "source": [
    "Use `update_many` to convert `RatingValue` to integer numbers."
   ]
  },
  {
   "cell_type": "code",
   "execution_count": 19,
   "id": "04430a5b",
   "metadata": {},
   "outputs": [
    {
     "data": {
      "text/plain": [
       "<pymongo.results.UpdateResult at 0x21c2abcc880>"
      ]
     },
     "execution_count": 19,
     "metadata": {},
     "output_type": "execute_result"
    }
   ],
   "source": [
    "# Set non 1-5 Rating Values to Null\n",
    "non_ratings = [\"AwaitingInspection\", \"Awaiting Inspection\", \"AwaitingPublication\", \"Pass\", \"Exempt\"]\n",
    "establishments.update_many({\"RatingValue\": {\"$in\": non_ratings}}, [{'$set':{ \"RatingValue\" : None}}])"
   ]
  },
  {
   "cell_type": "code",
   "execution_count": 20,
   "id": "92524ccc",
   "metadata": {},
   "outputs": [
    {
     "data": {
      "text/plain": [
       "<pymongo.results.UpdateResult at 0x21c2c8a9780>"
      ]
     },
     "execution_count": 20,
     "metadata": {},
     "output_type": "execute_result"
    }
   ],
   "source": [
    "# Change the data type from String to Integer for RatingValue\n",
    "establishments.update_many({}, [ {'$set': {'RatingValue': {'$toInt': '$RatingValue'}\n",
    "                                          }}])"
   ]
  },
  {
   "cell_type": "code",
   "execution_count": 21,
   "id": "0deacaf9",
   "metadata": {},
   "outputs": [
    {
     "name": "stdout",
     "output_type": "stream",
     "text": [
      "Document with numeric coordinates: {'_id': ObjectId('6498904a24b97107a60c11c1'), 'geocode': {'latitude': 'string'}}\n",
      "Document with numeric coordinates: {'_id': ObjectId('6498904a24b97107a60c11c3'), 'geocode': {'latitude': 'string'}}\n",
      "Document with numeric coordinates: {'_id': ObjectId('6498904a24b97107a60c11c5'), 'geocode': {'latitude': 'string'}}\n",
      "Document with numeric coordinates: {'_id': ObjectId('6498904a24b97107a60c11c6'), 'geocode': {'latitude': 'string'}}\n",
      "Document with numeric coordinates: {'_id': ObjectId('6498904a24b97107a60c11c7'), 'geocode': {'latitude': 'string'}}\n",
      "Document with numeric coordinates: {'_id': ObjectId('6498904a24b97107a60c11c8'), 'geocode': {'latitude': 'string'}}\n",
      "Document with numeric coordinates: {'_id': ObjectId('6498904a24b97107a60c11c9'), 'geocode': {'latitude': 'string'}}\n",
      "Document with numeric coordinates: {'_id': ObjectId('6498904a24b97107a60c11ca'), 'geocode': {'latitude': 'string'}}\n",
      "Document with numeric coordinates: {'_id': ObjectId('6498904a24b97107a60c11cb'), 'geocode': {'latitude': 'string'}}\n",
      "Document with numeric coordinates: {'_id': ObjectId('6498904a24b97107a60c11cc'), 'geocode': {'latitude': 'string'}}\n"
     ]
    }
   ],
   "source": [
    "# Check that the coordinates and rating value are now numbers\n",
    "numeric_coordinates = establishments.find({'geocode.longitude': {\"$type\": \"number\"}}, {'geocode.latitude': {\"$type\": \"number\"}}).limit(10)\n",
    "\n",
    "# Iterate over documents with numeric coordinates\n",
    "for doc in numeric_coordinates:\n",
    "    print(\"Document with numeric coordinates:\", doc)\n"
   ]
  },
  {
   "cell_type": "code",
   "execution_count": 23,
   "id": "d1be5a67",
   "metadata": {},
   "outputs": [
    {
     "name": "stdout",
     "output_type": "stream",
     "text": [
      "Document with numeric ratings: {'_id': ObjectId('6498904a24b97107a60c11c1'), 'FHRSID': 1043695, 'ChangesByServerID': 0, 'LocalAuthorityBusinessID': 'PI/000073616', 'BusinessName': 'The Pavilion', 'BusinessType': 'Restaurant/Cafe/Canteen', 'BusinessTypeID': 1, 'AddressLine1': 'East Cliff Pavilion', 'AddressLine2': 'Wear Bay Road', 'AddressLine3': 'Folkestone', 'AddressLine4': 'Kent', 'PostCode': 'CT19 6BL', 'Phone': '', 'RatingValue': 5, 'RatingKey': 'fhrs_5_en-gb', 'RatingDate': '2018-04-04T00:00:00', 'LocalAuthorityCode': '188', 'LocalAuthorityName': 'Folkestone and Hythe', 'LocalAuthorityWebSite': 'http://www.folkestone-hythe.gov.uk', 'LocalAuthorityEmailAddress': 'foodteam@folkestone-hythe.gov.uk', 'scores': {'Hygiene': 5, 'Structural': 5, 'ConfidenceInManagement': 5}, 'SchemeType': 'FHRS', 'geocode': {'longitude': 1.195625, 'latitude': 51.083812}, 'RightToReply': '', 'Distance': 4591.765489457773, 'NewRatingPending': False, 'meta': {'dataSource': None, 'extractDate': '0001-01-01T00:00:00', 'itemCount': 0, 'returncode': None, 'totalCount': 0, 'totalPages': 0, 'pageSize': 0, 'pageNumber': 0}, 'links': [{'rel': 'self', 'href': 'https://api.ratings.food.gov.uk/establishments/1043695'}]}\n",
      "Document with numeric ratings: {'_id': ObjectId('6498904a24b97107a60c11c3'), 'FHRSID': 647177, 'ChangesByServerID': 0, 'LocalAuthorityBusinessID': 'PI/000041489', 'BusinessName': 'Wear Bay Bowls Club', 'BusinessType': 'Pub/bar/nightclub', 'BusinessTypeID': 7843, 'AddressLine1': 'Wear Bay Road', 'AddressLine2': 'Folkestone', 'AddressLine3': 'Kent', 'AddressLine4': '', 'PostCode': 'CT19 6PY', 'Phone': '', 'RatingValue': 4, 'RatingKey': 'fhrs_4_en-gb', 'RatingDate': '2014-03-31T00:00:00', 'LocalAuthorityCode': '188', 'LocalAuthorityName': 'Folkestone and Hythe', 'LocalAuthorityWebSite': 'http://www.folkestone-hythe.gov.uk', 'LocalAuthorityEmailAddress': 'foodteam@folkestone-hythe.gov.uk', 'scores': {'Hygiene': 5, 'Structural': 5, 'ConfidenceInManagement': 10}, 'SchemeType': 'FHRS', 'geocode': {'longitude': 1.196408, 'latitude': 51.086058}, 'RightToReply': '', 'Distance': 4591.821311183521, 'NewRatingPending': False, 'meta': {'dataSource': None, 'extractDate': '0001-01-01T00:00:00', 'itemCount': 0, 'returncode': None, 'totalCount': 0, 'totalPages': 0, 'pageSize': 0, 'pageNumber': 0}, 'links': [{'rel': 'self', 'href': 'https://api.ratings.food.gov.uk/establishments/647177'}]}\n",
      "Document with numeric ratings: {'_id': ObjectId('6498904a24b97107a60c11c5'), 'FHRSID': 289353, 'ChangesByServerID': 0, 'LocalAuthorityBusinessID': 'PI/000002468', 'BusinessName': 'St Marys COE (aided) Primary School', 'BusinessType': 'School/college/university', 'BusinessTypeID': 7845, 'AddressLine1': 'St Marys Church Of England Primary School', 'AddressLine2': 'Warren Road', 'AddressLine3': 'Folkestone', 'AddressLine4': 'Kent', 'PostCode': 'CT19 6QH', 'Phone': '', 'RatingValue': 5, 'RatingKey': 'fhrs_5_en-gb', 'RatingDate': '2016-09-13T00:00:00', 'LocalAuthorityCode': '188', 'LocalAuthorityName': 'Folkestone and Hythe', 'LocalAuthorityWebSite': 'http://www.folkestone-hythe.gov.uk', 'LocalAuthorityEmailAddress': 'foodteam@folkestone-hythe.gov.uk', 'scores': {'Hygiene': 0, 'Structural': 0, 'ConfidenceInManagement': 0}, 'SchemeType': 'FHRS', 'geocode': {'longitude': 1.194762, 'latitude': 51.085797}, 'RightToReply': '', 'Distance': 4591.871474174837, 'NewRatingPending': False, 'meta': {'dataSource': None, 'extractDate': '0001-01-01T00:00:00', 'itemCount': 0, 'returncode': None, 'totalCount': 0, 'totalPages': 0, 'pageSize': 0, 'pageNumber': 0}, 'links': [{'rel': 'self', 'href': 'https://api.ratings.food.gov.uk/establishments/289353'}]}\n",
      "Document with numeric ratings: {'_id': ObjectId('6498904a24b97107a60c11c6'), 'FHRSID': 344689, 'ChangesByServerID': 0, 'LocalAuthorityBusinessID': 'PI/000002095', 'BusinessName': 'Folkestone Trawlers Shop', 'BusinessType': 'Retailers - other', 'BusinessTypeID': 4613, 'AddressLine1': '1 The Stade', 'AddressLine2': 'Folkestone', 'AddressLine3': 'Kent', 'AddressLine4': '', 'PostCode': 'CT19 6AB', 'Phone': '', 'RatingValue': 5, 'RatingKey': 'fhrs_5_en-gb', 'RatingDate': '2020-02-14T00:00:00', 'LocalAuthorityCode': '188', 'LocalAuthorityName': 'Folkestone and Hythe', 'LocalAuthorityWebSite': 'http://www.folkestone-hythe.gov.uk', 'LocalAuthorityEmailAddress': 'foodteam@folkestone-hythe.gov.uk', 'scores': {'Hygiene': 0, 'Structural': 5, 'ConfidenceInManagement': 5}, 'SchemeType': 'FHRS', 'geocode': {'longitude': 1.188537, 'latitude': 51.08084}, 'RightToReply': '', 'Distance': 4591.912144538092, 'NewRatingPending': False, 'meta': {'dataSource': None, 'extractDate': '0001-01-01T00:00:00', 'itemCount': 0, 'returncode': None, 'totalCount': 0, 'totalPages': 0, 'pageSize': 0, 'pageNumber': 0}, 'links': [{'rel': 'self', 'href': 'https://api.ratings.food.gov.uk/establishments/344689'}]}\n",
      "Document with numeric ratings: {'_id': ObjectId('6498904a24b97107a60c11c7'), 'FHRSID': 987206, 'ChangesByServerID': 0, 'LocalAuthorityBusinessID': 'PI/000075655', 'BusinessName': 'The Ships Galley', 'BusinessType': 'Pub/bar/nightclub', 'BusinessTypeID': 7843, 'AddressLine1': 'The Ship', 'AddressLine2': '23 The Stade', 'AddressLine3': 'Folkestone', 'AddressLine4': 'Kent', 'PostCode': 'CT19 6AB', 'Phone': '', 'RatingValue': 4, 'RatingKey': 'fhrs_4_en-gb', 'RatingDate': '2019-07-03T00:00:00', 'LocalAuthorityCode': '188', 'LocalAuthorityName': 'Folkestone and Hythe', 'LocalAuthorityWebSite': 'http://www.folkestone-hythe.gov.uk', 'LocalAuthorityEmailAddress': 'foodteam@folkestone-hythe.gov.uk', 'scores': {'Hygiene': 0, 'Structural': 0, 'ConfidenceInManagement': 10}, 'SchemeType': 'FHRS', 'geocode': {'longitude': 1.188537, 'latitude': 51.08084}, 'RightToReply': '', 'Distance': 4591.912144538092, 'NewRatingPending': False, 'meta': {'dataSource': None, 'extractDate': '0001-01-01T00:00:00', 'itemCount': 0, 'returncode': None, 'totalCount': 0, 'totalPages': 0, 'pageSize': 0, 'pageNumber': 0}, 'links': [{'rel': 'self', 'href': 'https://api.ratings.food.gov.uk/establishments/987206'}]}\n",
      "Document with numeric ratings: {'_id': ObjectId('6498904a24b97107a60c11c8'), 'FHRSID': 1071930, 'ChangesByServerID': 0, 'LocalAuthorityBusinessID': 'PI/000076531', 'BusinessName': 'The Club Hut', 'BusinessType': 'Pub/bar/nightclub', 'BusinessTypeID': 7843, 'AddressLine1': 'Folkestone Harbour', 'AddressLine2': 'Harbour Approach Road', 'AddressLine3': 'Folkestone', 'AddressLine4': 'Kent', 'PostCode': '', 'Phone': '', 'RatingValue': 5, 'RatingKey': 'fhrs_5_en-gb', 'RatingDate': '2018-08-04T00:00:00', 'LocalAuthorityCode': '188', 'LocalAuthorityName': 'Folkestone and Hythe', 'LocalAuthorityWebSite': 'http://www.folkestone-hythe.gov.uk', 'LocalAuthorityEmailAddress': 'foodteam@folkestone-hythe.gov.uk', 'scores': {'Hygiene': 0, 'Structural': 5, 'ConfidenceInManagement': 5}, 'SchemeType': 'FHRS', 'geocode': {'longitude': 1.18590330311705, 'latitude': 51.0783519967076}, 'RightToReply': '', 'Distance': 4591.914705329384, 'NewRatingPending': False, 'meta': {'dataSource': None, 'extractDate': '0001-01-01T00:00:00', 'itemCount': 0, 'returncode': None, 'totalCount': 0, 'totalPages': 0, 'pageSize': 0, 'pageNumber': 0}, 'links': [{'rel': 'self', 'href': 'https://api.ratings.food.gov.uk/establishments/1071930'}]}\n",
      "Document with numeric ratings: {'_id': ObjectId('6498904a24b97107a60c11c9'), 'FHRSID': 1043701, 'ChangesByServerID': 0, 'LocalAuthorityBusinessID': 'PI/000076360', 'BusinessName': 'Pick Up Pintxos', 'BusinessType': 'Takeaway/sandwich shop', 'BusinessTypeID': 7844, 'AddressLine1': 'Folkestone Harbour', 'AddressLine2': 'Harbour Approach Road', 'AddressLine3': 'Folkestone', 'AddressLine4': 'Kent', 'PostCode': '', 'Phone': '', 'RatingValue': 5, 'RatingKey': 'fhrs_5_en-gb', 'RatingDate': '2018-04-18T00:00:00', 'LocalAuthorityCode': '188', 'LocalAuthorityName': 'Folkestone and Hythe', 'LocalAuthorityWebSite': 'http://www.folkestone-hythe.gov.uk', 'LocalAuthorityEmailAddress': 'foodteam@folkestone-hythe.gov.uk', 'scores': {'Hygiene': 5, 'Structural': 5, 'ConfidenceInManagement': 5}, 'SchemeType': 'FHRS', 'geocode': {'longitude': 1.18590330311705, 'latitude': 51.0783519967076}, 'RightToReply': '', 'Distance': 4591.914705329384, 'NewRatingPending': False, 'meta': {'dataSource': None, 'extractDate': '0001-01-01T00:00:00', 'itemCount': 0, 'returncode': None, 'totalCount': 0, 'totalPages': 0, 'pageSize': 0, 'pageNumber': 0}, 'links': [{'rel': 'self', 'href': 'https://api.ratings.food.gov.uk/establishments/1043701'}]}\n",
      "Document with numeric ratings: {'_id': ObjectId('6498904a24b97107a60c11ca'), 'FHRSID': 289352, 'ChangesByServerID': 0, 'LocalAuthorityBusinessID': 'PI/000002460', 'BusinessName': 'The Ship', 'BusinessType': 'Pub/bar/nightclub', 'BusinessTypeID': 7843, 'AddressLine1': '23 The Stade', 'AddressLine2': 'Folkestone', 'AddressLine3': 'Kent', 'AddressLine4': '', 'PostCode': 'CT19 6AB', 'Phone': '', 'RatingValue': 5, 'RatingKey': 'fhrs_5_en-gb', 'RatingDate': '2015-08-27T00:00:00', 'LocalAuthorityCode': '188', 'LocalAuthorityName': 'Folkestone and Hythe', 'LocalAuthorityWebSite': 'http://www.folkestone-hythe.gov.uk', 'LocalAuthorityEmailAddress': 'foodteam@folkestone-hythe.gov.uk', 'scores': {'Hygiene': 5, 'Structural': 5, 'ConfidenceInManagement': 5}, 'SchemeType': 'FHRS', 'geocode': {'longitude': 1.188537, 'latitude': 51.08084}, 'RightToReply': '', 'Distance': 4591.912144538092, 'NewRatingPending': False, 'meta': {'dataSource': None, 'extractDate': '0001-01-01T00:00:00', 'itemCount': 0, 'returncode': None, 'totalCount': 0, 'totalPages': 0, 'pageSize': 0, 'pageNumber': 0}, 'links': [{'rel': 'self', 'href': 'https://api.ratings.food.gov.uk/establishments/289352'}]}\n",
      "Document with numeric ratings: {'_id': ObjectId('6498904a24b97107a60c11cb'), 'FHRSID': 894592, 'ChangesByServerID': 0, 'LocalAuthorityBusinessID': 'PI/000074396', 'BusinessName': 'Docker', 'BusinessType': 'Retailers - other', 'BusinessTypeID': 4613, 'AddressLine1': 'Folkestone Harbour', 'AddressLine2': 'Harbour Approach Road', 'AddressLine3': 'Folkestone', 'AddressLine4': 'Kent', 'PostCode': '', 'Phone': '', 'RatingValue': 5, 'RatingKey': 'fhrs_5_en-gb', 'RatingDate': '2018-04-18T00:00:00', 'LocalAuthorityCode': '188', 'LocalAuthorityName': 'Folkestone and Hythe', 'LocalAuthorityWebSite': 'http://www.folkestone-hythe.gov.uk', 'LocalAuthorityEmailAddress': 'foodteam@folkestone-hythe.gov.uk', 'scores': {'Hygiene': 0, 'Structural': 0, 'ConfidenceInManagement': 5}, 'SchemeType': 'FHRS', 'geocode': {'longitude': 1.18590330311705, 'latitude': 51.0783519967076}, 'RightToReply': '', 'Distance': 4591.914705329384, 'NewRatingPending': False, 'meta': {'dataSource': None, 'extractDate': '0001-01-01T00:00:00', 'itemCount': 0, 'returncode': None, 'totalCount': 0, 'totalPages': 0, 'pageSize': 0, 'pageNumber': 0}, 'links': [{'rel': 'self', 'href': 'https://api.ratings.food.gov.uk/establishments/894592'}]}\n",
      "Document with numeric ratings: {'_id': ObjectId('6498904a24b97107a60c11cc'), 'FHRSID': 805702, 'ChangesByServerID': 0, 'LocalAuthorityBusinessID': 'PI/000073219', 'BusinessName': 'Dr Legumes - Harbour Arm', 'BusinessType': 'Restaurant/Cafe/Canteen', 'BusinessTypeID': 1, 'AddressLine1': 'Folkestone Harbour', 'AddressLine2': 'Harbour Approach Road', 'AddressLine3': 'Folkestone', 'AddressLine4': 'Kent', 'PostCode': '', 'Phone': '', 'RatingValue': 4, 'RatingKey': 'fhrs_4_en-gb', 'RatingDate': '2018-06-08T00:00:00', 'LocalAuthorityCode': '188', 'LocalAuthorityName': 'Folkestone and Hythe', 'LocalAuthorityWebSite': 'http://www.folkestone-hythe.gov.uk', 'LocalAuthorityEmailAddress': 'foodteam@folkestone-hythe.gov.uk', 'scores': {'Hygiene': 0, 'Structural': 10, 'ConfidenceInManagement': 10}, 'SchemeType': 'FHRS', 'geocode': {'longitude': 1.18590330311705, 'latitude': 51.0783519967076}, 'RightToReply': '', 'Distance': 4591.914705329384, 'NewRatingPending': False, 'meta': {'dataSource': None, 'extractDate': '0001-01-01T00:00:00', 'itemCount': 0, 'returncode': None, 'totalCount': 0, 'totalPages': 0, 'pageSize': 0, 'pageNumber': 0}, 'links': [{'rel': 'self', 'href': 'https://api.ratings.food.gov.uk/establishments/805702'}]}\n",
      "Document with numeric ratings: {'_id': ObjectId('6498904a24b97107a60c11cd'), 'FHRSID': 289560, 'ChangesByServerID': 0, 'LocalAuthorityBusinessID': 'PI/000039927', 'BusinessName': 'Mariner', 'BusinessType': 'Pub/bar/nightclub', 'BusinessTypeID': 7843, 'AddressLine1': '16 The Stade', 'AddressLine2': 'Folkestone', 'AddressLine3': 'Kent', 'AddressLine4': '', 'PostCode': 'CT19 6AB', 'Phone': '', 'RatingValue': 5, 'RatingKey': 'fhrs_5_en-gb', 'RatingDate': '2019-03-19T00:00:00', 'LocalAuthorityCode': '188', 'LocalAuthorityName': 'Folkestone and Hythe', 'LocalAuthorityWebSite': 'http://www.folkestone-hythe.gov.uk', 'LocalAuthorityEmailAddress': 'foodteam@folkestone-hythe.gov.uk', 'scores': {'Hygiene': 0, 'Structural': 5, 'ConfidenceInManagement': 0}, 'SchemeType': 'FHRS', 'geocode': {'longitude': 1.188537, 'latitude': 51.08084}, 'RightToReply': '', 'Distance': 4591.912144538092, 'NewRatingPending': False, 'meta': {'dataSource': None, 'extractDate': '0001-01-01T00:00:00', 'itemCount': 0, 'returncode': None, 'totalCount': 0, 'totalPages': 0, 'pageSize': 0, 'pageNumber': 0}, 'links': [{'rel': 'self', 'href': 'https://api.ratings.food.gov.uk/establishments/289560'}]}\n",
      "Document with numeric ratings: {'_id': ObjectId('6498904a24b97107a60c11ce'), 'FHRSID': 805703, 'ChangesByServerID': 0, 'LocalAuthorityBusinessID': 'PI/000073221', 'BusinessName': 'That Burger - Harbour Arm', 'BusinessType': 'Takeaway/sandwich shop', 'BusinessTypeID': 7844, 'AddressLine1': 'Folkestone Harbour', 'AddressLine2': 'Harbour Approach Road', 'AddressLine3': 'Folkestone', 'AddressLine4': 'Kent', 'PostCode': '', 'Phone': '', 'RatingValue': 5, 'RatingKey': 'fhrs_5_en-gb', 'RatingDate': '2018-08-17T00:00:00', 'LocalAuthorityCode': '188', 'LocalAuthorityName': 'Folkestone and Hythe', 'LocalAuthorityWebSite': 'http://www.folkestone-hythe.gov.uk', 'LocalAuthorityEmailAddress': 'foodteam@folkestone-hythe.gov.uk', 'scores': {'Hygiene': 5, 'Structural': 5, 'ConfidenceInManagement': 5}, 'SchemeType': 'FHRS', 'geocode': {'longitude': 1.18590330311705, 'latitude': 51.0783519967076}, 'RightToReply': '', 'Distance': 4591.914705329384, 'NewRatingPending': False, 'meta': {'dataSource': None, 'extractDate': '0001-01-01T00:00:00', 'itemCount': 0, 'returncode': None, 'totalCount': 0, 'totalPages': 0, 'pageSize': 0, 'pageNumber': 0}, 'links': [{'rel': 'self', 'href': 'https://api.ratings.food.gov.uk/establishments/805703'}]}\n",
      "Document with numeric ratings: {'_id': ObjectId('6498904a24b97107a60c11cf'), 'FHRSID': 1068284, 'ChangesByServerID': 0, 'LocalAuthorityBusinessID': 'PI/000076532', 'BusinessName': 'The Tea Caddy', 'BusinessType': 'Mobile caterer', 'BusinessTypeID': 7846, 'AddressLine1': 'Folkestone Harbour', 'AddressLine2': 'Harbour Approach Road', 'AddressLine3': 'Folkestone', 'AddressLine4': 'Kent', 'PostCode': '', 'Phone': '', 'RatingValue': 5, 'RatingKey': 'fhrs_5_en-gb', 'RatingDate': '2018-08-03T00:00:00', 'LocalAuthorityCode': '188', 'LocalAuthorityName': 'Folkestone and Hythe', 'LocalAuthorityWebSite': 'http://www.folkestone-hythe.gov.uk', 'LocalAuthorityEmailAddress': 'foodteam@folkestone-hythe.gov.uk', 'scores': {'Hygiene': 5, 'Structural': 5, 'ConfidenceInManagement': 5}, 'SchemeType': 'FHRS', 'geocode': {'longitude': 1.18590330311705, 'latitude': 51.0783519967076}, 'RightToReply': '', 'Distance': 4591.914705329384, 'NewRatingPending': False, 'meta': {'dataSource': None, 'extractDate': '0001-01-01T00:00:00', 'itemCount': 0, 'returncode': None, 'totalCount': 0, 'totalPages': 0, 'pageSize': 0, 'pageNumber': 0}, 'links': [{'rel': 'self', 'href': 'https://api.ratings.food.gov.uk/establishments/1068284'}]}\n",
      "Document with numeric ratings: {'_id': ObjectId('6498904a24b97107a60c11d0'), 'FHRSID': 1423242, 'ChangesByServerID': 0, 'LocalAuthorityBusinessID': 'PI/000078141', 'BusinessName': 'Little Rock', 'BusinessType': 'Other catering premises', 'BusinessTypeID': 7841, 'AddressLine1': 'Folkestone Harbour', 'AddressLine2': 'Harbour Approach Road', 'AddressLine3': 'Folkestone', 'AddressLine4': 'Kent', 'PostCode': '', 'Phone': '', 'RatingValue': 5, 'RatingKey': 'fhrs_5_en-gb', 'RatingDate': '2022-04-14T00:00:00', 'LocalAuthorityCode': '188', 'LocalAuthorityName': 'Folkestone and Hythe', 'LocalAuthorityWebSite': 'http://www.folkestone-hythe.gov.uk', 'LocalAuthorityEmailAddress': 'foodteam@folkestone-hythe.gov.uk', 'scores': {'Hygiene': None, 'Structural': None, 'ConfidenceInManagement': None}, 'SchemeType': 'FHRS', 'geocode': {'longitude': 1.18590330311705, 'latitude': 51.0783519967076}, 'RightToReply': '', 'Distance': 4591.914705329384, 'NewRatingPending': False, 'meta': {'dataSource': None, 'extractDate': '0001-01-01T00:00:00', 'itemCount': 0, 'returncode': None, 'totalCount': 0, 'totalPages': 0, 'pageSize': 0, 'pageNumber': 0}, 'links': [{'rel': 'self', 'href': 'https://api.ratings.food.gov.uk/establishments/1423242'}]}\n",
      "Document with numeric ratings: {'_id': ObjectId('6498904a24b97107a60c11d1'), 'FHRSID': 1396944, 'ChangesByServerID': 0, 'LocalAuthorityBusinessID': 'PI/000078122', 'BusinessName': \"Dino's\", 'BusinessType': 'Restaurant/Cafe/Canteen', 'BusinessTypeID': 1, 'AddressLine1': 'Folkestone Harbour', 'AddressLine2': 'Harbour Approach Road', 'AddressLine3': 'Folkestone', 'AddressLine4': 'Kent', 'PostCode': '', 'Phone': '', 'RatingValue': 4, 'RatingKey': 'fhrs_4_en-gb', 'RatingDate': '2021-06-06T00:00:00', 'LocalAuthorityCode': '188', 'LocalAuthorityName': 'Folkestone and Hythe', 'LocalAuthorityWebSite': 'http://www.folkestone-hythe.gov.uk', 'LocalAuthorityEmailAddress': 'foodteam@folkestone-hythe.gov.uk', 'scores': {'Hygiene': 10, 'Structural': 5, 'ConfidenceInManagement': 5}, 'SchemeType': 'FHRS', 'geocode': {'longitude': 1.18590330311705, 'latitude': 51.0783519967076}, 'RightToReply': '', 'Distance': 4591.914705329384, 'NewRatingPending': False, 'meta': {'dataSource': None, 'extractDate': '0001-01-01T00:00:00', 'itemCount': 0, 'returncode': None, 'totalCount': 0, 'totalPages': 0, 'pageSize': 0, 'pageNumber': 0}, 'links': [{'rel': 'self', 'href': 'https://api.ratings.food.gov.uk/establishments/1396944'}]}\n",
      "Document with numeric ratings: {'_id': ObjectId('6498904a24b97107a60c11d2'), 'FHRSID': 861820, 'ChangesByServerID': 0, 'LocalAuthorityBusinessID': 'PI/000074300', 'BusinessName': 'Waiting Room - Harbour Arm', 'BusinessType': 'Pub/bar/nightclub', 'BusinessTypeID': 7843, 'AddressLine1': 'Folkestone Harbour', 'AddressLine2': 'Harbour Approach Road', 'AddressLine3': 'Folkestone', 'AddressLine4': 'Kent', 'PostCode': '', 'Phone': '', 'RatingValue': 5, 'RatingKey': 'fhrs_5_en-gb', 'RatingDate': '2019-07-12T00:00:00', 'LocalAuthorityCode': '188', 'LocalAuthorityName': 'Folkestone and Hythe', 'LocalAuthorityWebSite': 'http://www.folkestone-hythe.gov.uk', 'LocalAuthorityEmailAddress': 'foodteam@folkestone-hythe.gov.uk', 'scores': {'Hygiene': 5, 'Structural': 5, 'ConfidenceInManagement': 5}, 'SchemeType': 'FHRS', 'geocode': {'longitude': 1.18590330311705, 'latitude': 51.0783519967076}, 'RightToReply': '', 'Distance': 4591.914705329384, 'NewRatingPending': False, 'meta': {'dataSource': None, 'extractDate': '0001-01-01T00:00:00', 'itemCount': 0, 'returncode': None, 'totalCount': 0, 'totalPages': 0, 'pageSize': 0, 'pageNumber': 0}, 'links': [{'rel': 'self', 'href': 'https://api.ratings.food.gov.uk/establishments/861820'}]}\n",
      "Document with numeric ratings: {'_id': ObjectId('6498904a24b97107a60c11d3'), 'FHRSID': 1495230, 'ChangesByServerID': 0, 'LocalAuthorityBusinessID': 'PI/000078175', 'BusinessName': 'Lobster & Burger', 'BusinessType': 'Takeaway/sandwich shop', 'BusinessTypeID': 7844, 'AddressLine1': 'Folkestone Harbour', 'AddressLine2': 'Harbour Approach Road', 'AddressLine3': 'Folkestone', 'AddressLine4': 'Kent', 'PostCode': '', 'Phone': '', 'RatingValue': 5, 'RatingKey': 'fhrs_5_en-gb', 'RatingDate': '2022-04-05T00:00:00', 'LocalAuthorityCode': '188', 'LocalAuthorityName': 'Folkestone and Hythe', 'LocalAuthorityWebSite': 'http://www.folkestone-hythe.gov.uk', 'LocalAuthorityEmailAddress': 'foodteam@folkestone-hythe.gov.uk', 'scores': {'Hygiene': 5, 'Structural': 5, 'ConfidenceInManagement': 5}, 'SchemeType': 'FHRS', 'geocode': {'longitude': 1.18590330311705, 'latitude': 51.0783519967076}, 'RightToReply': '', 'Distance': 4591.914705329384, 'NewRatingPending': False, 'meta': {'dataSource': None, 'extractDate': '0001-01-01T00:00:00', 'itemCount': 0, 'returncode': None, 'totalCount': 0, 'totalPages': 0, 'pageSize': 0, 'pageNumber': 0}, 'links': [{'rel': 'self', 'href': 'https://api.ratings.food.gov.uk/establishments/1495230'}]}\n",
      "Document with numeric ratings: {'_id': ObjectId('6498904a24b97107a60c11d4'), 'FHRSID': 873838, 'ChangesByServerID': 0, 'LocalAuthorityBusinessID': 'PI/000074304', 'BusinessName': 'Hog & Hop - Harbour Arm', 'BusinessType': 'Takeaway/sandwich shop', 'BusinessTypeID': 7844, 'AddressLine1': 'Folkestone Harbour', 'AddressLine2': 'Harbour Approach Road', 'AddressLine3': 'Folkestone', 'AddressLine4': 'Kent', 'PostCode': '', 'Phone': '', 'RatingValue': 5, 'RatingKey': 'fhrs_5_en-gb', 'RatingDate': '2019-07-12T00:00:00', 'LocalAuthorityCode': '188', 'LocalAuthorityName': 'Folkestone and Hythe', 'LocalAuthorityWebSite': 'http://www.folkestone-hythe.gov.uk', 'LocalAuthorityEmailAddress': 'foodteam@folkestone-hythe.gov.uk', 'scores': {'Hygiene': 5, 'Structural': 5, 'ConfidenceInManagement': 5}, 'SchemeType': 'FHRS', 'geocode': {'longitude': 1.18590330311705, 'latitude': 51.0783519967076}, 'RightToReply': '', 'Distance': 4591.914705329384, 'NewRatingPending': False, 'meta': {'dataSource': None, 'extractDate': '0001-01-01T00:00:00', 'itemCount': 0, 'returncode': None, 'totalCount': 0, 'totalPages': 0, 'pageSize': 0, 'pageNumber': 0}, 'links': [{'rel': 'self', 'href': 'https://api.ratings.food.gov.uk/establishments/873838'}]}\n",
      "Document with numeric ratings: {'_id': ObjectId('6498904a24b97107a60c11d5'), 'FHRSID': 1299500, 'ChangesByServerID': 0, 'LocalAuthorityBusinessID': 'PI/000078051', 'BusinessName': 'The Pilot', 'BusinessType': 'Pub/bar/nightclub', 'BusinessTypeID': 7843, 'AddressLine1': 'Folkestone Harbour', 'AddressLine2': 'Harbour Approach Road', 'AddressLine3': 'Folkestone', 'AddressLine4': 'Kent', 'PostCode': '', 'Phone': '', 'RatingValue': 5, 'RatingKey': 'fhrs_5_en-gb', 'RatingDate': '2021-06-14T00:00:00', 'LocalAuthorityCode': '188', 'LocalAuthorityName': 'Folkestone and Hythe', 'LocalAuthorityWebSite': 'http://www.folkestone-hythe.gov.uk', 'LocalAuthorityEmailAddress': 'foodteam@folkestone-hythe.gov.uk', 'scores': {'Hygiene': 0, 'Structural': 0, 'ConfidenceInManagement': 0}, 'SchemeType': 'FHRS', 'geocode': {'longitude': 1.18590330311705, 'latitude': 51.0783519967076}, 'RightToReply': '', 'Distance': 4591.914705329384, 'NewRatingPending': False, 'meta': {'dataSource': None, 'extractDate': '0001-01-01T00:00:00', 'itemCount': 0, 'returncode': None, 'totalCount': 0, 'totalPages': 0, 'pageSize': 0, 'pageNumber': 0}, 'links': [{'rel': 'self', 'href': 'https://api.ratings.food.gov.uk/establishments/1299500'}]}\n",
      "Document with numeric ratings: {'_id': ObjectId('6498904a24b97107a60c11d6'), 'FHRSID': 1396943, 'ChangesByServerID': 0, 'LocalAuthorityBusinessID': 'PI/000078121', 'BusinessName': 'Barney & The Pizza', 'BusinessType': 'Restaurant/Cafe/Canteen', 'BusinessTypeID': 1, 'AddressLine1': 'Folkestone Harbour', 'AddressLine2': 'Harbour Approach Road', 'AddressLine3': 'Folkestone', 'AddressLine4': 'Kent', 'PostCode': '', 'Phone': '', 'RatingValue': 3, 'RatingKey': 'fhrs_3_en-gb', 'RatingDate': '2021-06-06T00:00:00', 'LocalAuthorityCode': '188', 'LocalAuthorityName': 'Folkestone and Hythe', 'LocalAuthorityWebSite': 'http://www.folkestone-hythe.gov.uk', 'LocalAuthorityEmailAddress': 'foodteam@folkestone-hythe.gov.uk', 'scores': {'Hygiene': 10, 'Structural': 10, 'ConfidenceInManagement': 5}, 'SchemeType': 'FHRS', 'geocode': {'longitude': 1.18590330311705, 'latitude': 51.0783519967076}, 'RightToReply': '', 'Distance': 4591.914705329384, 'NewRatingPending': False, 'meta': {'dataSource': None, 'extractDate': '0001-01-01T00:00:00', 'itemCount': 0, 'returncode': None, 'totalCount': 0, 'totalPages': 0, 'pageSize': 0, 'pageNumber': 0}, 'links': [{'rel': 'self', 'href': 'https://api.ratings.food.gov.uk/establishments/1396943'}]}\n",
      "Document with numeric ratings: {'_id': ObjectId('6498904a24b97107a60c11d7'), 'FHRSID': 1058634, 'ChangesByServerID': 0, 'LocalAuthorityBusinessID': 'PI/000076448', 'BusinessName': 'Platform Three', 'BusinessType': 'Mobile caterer', 'BusinessTypeID': 7846, 'AddressLine1': 'Folkestone Harbour', 'AddressLine2': 'Harbour Approach Road', 'AddressLine3': 'Folkestone', 'AddressLine4': 'Kent', 'PostCode': '', 'Phone': '', 'RatingValue': 3, 'RatingKey': 'fhrs_3_en-gb', 'RatingDate': '2018-08-03T00:00:00', 'LocalAuthorityCode': '188', 'LocalAuthorityName': 'Folkestone and Hythe', 'LocalAuthorityWebSite': 'http://www.folkestone-hythe.gov.uk', 'LocalAuthorityEmailAddress': 'foodteam@folkestone-hythe.gov.uk', 'scores': {'Hygiene': 5, 'Structural': 10, 'ConfidenceInManagement': 10}, 'SchemeType': 'FHRS', 'geocode': {'longitude': 1.18590330311705, 'latitude': 51.0783519967076}, 'RightToReply': '', 'Distance': 4591.914705329384, 'NewRatingPending': False, 'meta': {'dataSource': None, 'extractDate': '0001-01-01T00:00:00', 'itemCount': 0, 'returncode': None, 'totalCount': 0, 'totalPages': 0, 'pageSize': 0, 'pageNumber': 0}, 'links': [{'rel': 'self', 'href': 'https://api.ratings.food.gov.uk/establishments/1058634'}]}\n",
      "Document with numeric ratings: {'_id': ObjectId('6498904a24b97107a60c11d8'), 'FHRSID': 1466503, 'ChangesByServerID': 0, 'LocalAuthorityBusinessID': 'PI/000078160', 'BusinessName': 'Greek Street', 'BusinessType': 'Takeaway/sandwich shop', 'BusinessTypeID': 7844, 'AddressLine1': 'Folkestone Harbour', 'AddressLine2': 'Harbour Approach Road', 'AddressLine3': 'Folkestone', 'AddressLine4': 'Kent', 'PostCode': '', 'Phone': '', 'RatingValue': 5, 'RatingKey': 'fhrs_5_en-gb', 'RatingDate': '2022-04-28T00:00:00', 'LocalAuthorityCode': '188', 'LocalAuthorityName': 'Folkestone and Hythe', 'LocalAuthorityWebSite': 'http://www.folkestone-hythe.gov.uk', 'LocalAuthorityEmailAddress': 'foodteam@folkestone-hythe.gov.uk', 'scores': {'Hygiene': 0, 'Structural': 0, 'ConfidenceInManagement': 0}, 'SchemeType': 'FHRS', 'geocode': {'longitude': 1.18590330311705, 'latitude': 51.0783519967076}, 'RightToReply': '', 'Distance': 4591.914705329384, 'NewRatingPending': False, 'meta': {'dataSource': None, 'extractDate': '0001-01-01T00:00:00', 'itemCount': 0, 'returncode': None, 'totalCount': 0, 'totalPages': 0, 'pageSize': 0, 'pageNumber': 0}, 'links': [{'rel': 'self', 'href': 'https://api.ratings.food.gov.uk/establishments/1466503'}]}\n",
      "Document with numeric ratings: {'_id': ObjectId('6498904a24b97107a60c11d9'), 'FHRSID': 1241758, 'ChangesByServerID': 0, 'LocalAuthorityBusinessID': 'PI/000077661', 'BusinessName': 'Coffee Folkes', 'BusinessType': 'Other catering premises', 'BusinessTypeID': 7841, 'AddressLine1': 'Folkestone Harbour', 'AddressLine2': 'Harbour Approach Road', 'AddressLine3': 'Folkestone', 'AddressLine4': 'Kent', 'PostCode': '', 'Phone': '', 'RatingValue': 5, 'RatingKey': 'fhrs_5_en-gb', 'RatingDate': '2022-04-28T00:00:00', 'LocalAuthorityCode': '188', 'LocalAuthorityName': 'Folkestone and Hythe', 'LocalAuthorityWebSite': 'http://www.folkestone-hythe.gov.uk', 'LocalAuthorityEmailAddress': 'foodteam@folkestone-hythe.gov.uk', 'scores': {'Hygiene': 0, 'Structural': 0, 'ConfidenceInManagement': 0}, 'SchemeType': 'FHRS', 'geocode': {'longitude': 1.18590330311705, 'latitude': 51.0783519967076}, 'RightToReply': '', 'Distance': 4591.914705329384, 'NewRatingPending': False, 'meta': {'dataSource': None, 'extractDate': '0001-01-01T00:00:00', 'itemCount': 0, 'returncode': None, 'totalCount': 0, 'totalPages': 0, 'pageSize': 0, 'pageNumber': 0}, 'links': [{'rel': 'self', 'href': 'https://api.ratings.food.gov.uk/establishments/1241758'}]}\n",
      "Document with numeric ratings: {'_id': ObjectId('6498904a24b97107a60c11da'), 'FHRSID': 1410251, 'ChangesByServerID': 0, 'LocalAuthorityBusinessID': 'PI/000078140', 'BusinessName': 'Fish Shack', 'BusinessType': 'Takeaway/sandwich shop', 'BusinessTypeID': 7844, 'AddressLine1': 'Folkestone Harbour', 'AddressLine2': 'Harbour Approach Road', 'AddressLine3': 'Folkestone', 'AddressLine4': 'Kent', 'PostCode': '', 'Phone': '', 'RatingValue': 5, 'RatingKey': 'fhrs_5_en-gb', 'RatingDate': '2022-04-20T00:00:00', 'LocalAuthorityCode': '188', 'LocalAuthorityName': 'Folkestone and Hythe', 'LocalAuthorityWebSite': 'http://www.folkestone-hythe.gov.uk', 'LocalAuthorityEmailAddress': 'foodteam@folkestone-hythe.gov.uk', 'scores': {'Hygiene': 0, 'Structural': 0, 'ConfidenceInManagement': 0}, 'SchemeType': 'FHRS', 'geocode': {'longitude': 1.18590330311705, 'latitude': 51.0783519967076}, 'RightToReply': '', 'Distance': 4591.914705329384, 'NewRatingPending': False, 'meta': {'dataSource': None, 'extractDate': '0001-01-01T00:00:00', 'itemCount': 0, 'returncode': None, 'totalCount': 0, 'totalPages': 0, 'pageSize': 0, 'pageNumber': 0}, 'links': [{'rel': 'self', 'href': 'https://api.ratings.food.gov.uk/establishments/1410251'}]}\n",
      "Document with numeric ratings: {'_id': ObjectId('6498904a24b97107a60c11db'), 'FHRSID': 1401066, 'ChangesByServerID': 0, 'LocalAuthorityBusinessID': 'PI/000078134', 'BusinessName': 'A Hui Hou', 'BusinessType': 'Takeaway/sandwich shop', 'BusinessTypeID': 7844, 'AddressLine1': 'Folkestone Harbour', 'AddressLine2': 'Harbour Approach Road', 'AddressLine3': 'Folkestone', 'AddressLine4': 'Kent', 'PostCode': '', 'Phone': '', 'RatingValue': 2, 'RatingKey': 'fhrs_2_en-gb', 'RatingDate': '2021-08-13T00:00:00', 'LocalAuthorityCode': '188', 'LocalAuthorityName': 'Folkestone and Hythe', 'LocalAuthorityWebSite': 'http://www.folkestone-hythe.gov.uk', 'LocalAuthorityEmailAddress': 'foodteam@folkestone-hythe.gov.uk', 'scores': {'Hygiene': 15, 'Structural': 15, 'ConfidenceInManagement': 10}, 'SchemeType': 'FHRS', 'geocode': {'longitude': 1.18590330311705, 'latitude': 51.0783519967076}, 'RightToReply': '', 'Distance': 4591.914705329384, 'NewRatingPending': False, 'meta': {'dataSource': None, 'extractDate': '0001-01-01T00:00:00', 'itemCount': 0, 'returncode': None, 'totalCount': 0, 'totalPages': 0, 'pageSize': 0, 'pageNumber': 0}, 'links': [{'rel': 'self', 'href': 'https://api.ratings.food.gov.uk/establishments/1401066'}]}\n",
      "Document with numeric ratings: {'_id': ObjectId('6498904a24b97107a60c11dc'), 'FHRSID': 1389679, 'ChangesByServerID': 0, 'LocalAuthorityBusinessID': 'PI/000078117', 'BusinessName': 'Harbour Hotdogs/Meatshack', 'BusinessType': 'Takeaway/sandwich shop', 'BusinessTypeID': 7844, 'AddressLine1': 'Folkestone Harbour', 'AddressLine2': 'Harbour Approach Road', 'AddressLine3': 'Folkestone', 'AddressLine4': 'Kent', 'PostCode': '', 'Phone': '', 'RatingValue': 5, 'RatingKey': 'fhrs_5_en-gb', 'RatingDate': '2022-04-28T00:00:00', 'LocalAuthorityCode': '188', 'LocalAuthorityName': 'Folkestone and Hythe', 'LocalAuthorityWebSite': 'http://www.folkestone-hythe.gov.uk', 'LocalAuthorityEmailAddress': 'foodteam@folkestone-hythe.gov.uk', 'scores': {'Hygiene': 0, 'Structural': 0, 'ConfidenceInManagement': 5}, 'SchemeType': 'FHRS', 'geocode': {'longitude': 1.18590330311705, 'latitude': 51.0783519967076}, 'RightToReply': '', 'Distance': 4591.914705329384, 'NewRatingPending': False, 'meta': {'dataSource': None, 'extractDate': '0001-01-01T00:00:00', 'itemCount': 0, 'returncode': None, 'totalCount': 0, 'totalPages': 0, 'pageSize': 0, 'pageNumber': 0}, 'links': [{'rel': 'self', 'href': 'https://api.ratings.food.gov.uk/establishments/1389679'}]}\n",
      "Document with numeric ratings: {'_id': ObjectId('6498904a24b97107a60c11dd'), 'FHRSID': 861815, 'ChangesByServerID': 0, 'LocalAuthorityBusinessID': 'PI/000073853', 'BusinessName': 'Bath Tub and Gun - Harbour Arm', 'BusinessType': 'Pub/bar/nightclub', 'BusinessTypeID': 7843, 'AddressLine1': 'Folkestone Harbour', 'AddressLine2': 'Harbour Approach Road', 'AddressLine3': 'Folkestone', 'AddressLine4': 'Kent', 'PostCode': '', 'Phone': '', 'RatingValue': 5, 'RatingKey': 'fhrs_5_en-gb', 'RatingDate': '2019-07-26T00:00:00', 'LocalAuthorityCode': '188', 'LocalAuthorityName': 'Folkestone and Hythe', 'LocalAuthorityWebSite': 'http://www.folkestone-hythe.gov.uk', 'LocalAuthorityEmailAddress': 'foodteam@folkestone-hythe.gov.uk', 'scores': {'Hygiene': 5, 'Structural': 5, 'ConfidenceInManagement': 5}, 'SchemeType': 'FHRS', 'geocode': {'longitude': 1.18590330311705, 'latitude': 51.0783519967076}, 'RightToReply': '', 'Distance': 4591.914705329384, 'NewRatingPending': False, 'meta': {'dataSource': None, 'extractDate': '0001-01-01T00:00:00', 'itemCount': 0, 'returncode': None, 'totalCount': 0, 'totalPages': 0, 'pageSize': 0, 'pageNumber': 0}, 'links': [{'rel': 'self', 'href': 'https://api.ratings.food.gov.uk/establishments/861815'}]}\n",
      "Document with numeric ratings: {'_id': ObjectId('6498904a24b97107a60c11de'), 'FHRSID': 1495226, 'ChangesByServerID': 0, 'LocalAuthorityBusinessID': 'PI/000078171', 'BusinessName': 'The Dessert Junction', 'BusinessType': 'Takeaway/sandwich shop', 'BusinessTypeID': 7844, 'AddressLine1': 'Folkestone Harbour', 'AddressLine2': 'Harbour Approach Road', 'AddressLine3': 'Folkestone', 'AddressLine4': 'Kent', 'PostCode': '', 'Phone': '', 'RatingValue': 5, 'RatingKey': 'fhrs_5_en-gb', 'RatingDate': '2022-04-20T00:00:00', 'LocalAuthorityCode': '188', 'LocalAuthorityName': 'Folkestone and Hythe', 'LocalAuthorityWebSite': 'http://www.folkestone-hythe.gov.uk', 'LocalAuthorityEmailAddress': 'foodteam@folkestone-hythe.gov.uk', 'scores': {'Hygiene': 0, 'Structural': 0, 'ConfidenceInManagement': 0}, 'SchemeType': 'FHRS', 'geocode': {'longitude': 1.18590330311705, 'latitude': 51.0783519967076}, 'RightToReply': '', 'Distance': 4591.914705329384, 'NewRatingPending': False, 'meta': {'dataSource': None, 'extractDate': '0001-01-01T00:00:00', 'itemCount': 0, 'returncode': None, 'totalCount': 0, 'totalPages': 0, 'pageSize': 0, 'pageNumber': 0}, 'links': [{'rel': 'self', 'href': 'https://api.ratings.food.gov.uk/establishments/1495226'}]}\n",
      "Document with numeric ratings: {'_id': ObjectId('6498904a24b97107a60c11df'), 'FHRSID': 1138444, 'ChangesByServerID': 0, 'LocalAuthorityBusinessID': 'PI/000077128', 'BusinessName': 'Lucky Radish', 'BusinessType': 'Mobile caterer', 'BusinessTypeID': 7846, 'AddressLine1': 'Folkestone Harbour', 'AddressLine2': 'Harbour Approach Road', 'AddressLine3': 'Folkestone', 'AddressLine4': 'Kent', 'PostCode': '', 'Phone': '', 'RatingValue': 4, 'RatingKey': 'fhrs_4_en-gb', 'RatingDate': '2019-07-26T00:00:00', 'LocalAuthorityCode': '188', 'LocalAuthorityName': 'Folkestone and Hythe', 'LocalAuthorityWebSite': 'http://www.folkestone-hythe.gov.uk', 'LocalAuthorityEmailAddress': 'foodteam@folkestone-hythe.gov.uk', 'scores': {'Hygiene': 5, 'Structural': 10, 'ConfidenceInManagement': 5}, 'SchemeType': 'FHRS', 'geocode': {'longitude': 1.18590330311705, 'latitude': 51.0783519967076}, 'RightToReply': '', 'Distance': 4591.914705329384, 'NewRatingPending': False, 'meta': {'dataSource': None, 'extractDate': '0001-01-01T00:00:00', 'itemCount': 0, 'returncode': None, 'totalCount': 0, 'totalPages': 0, 'pageSize': 0, 'pageNumber': 0}, 'links': [{'rel': 'self', 'href': 'https://api.ratings.food.gov.uk/establishments/1138444'}]}\n",
      "Document with numeric ratings: {'_id': ObjectId('6498904a24b97107a60c11e0'), 'FHRSID': 1058635, 'ChangesByServerID': 0, 'LocalAuthorityBusinessID': 'PI/000076449', 'BusinessName': 'Harbour Coffee Company', 'BusinessType': 'Restaurant/Cafe/Canteen', 'BusinessTypeID': 1, 'AddressLine1': 'Folkestone Harbour', 'AddressLine2': 'Harbour Approach Road', 'AddressLine3': 'Folkestone', 'AddressLine4': 'Kent', 'PostCode': '', 'Phone': '', 'RatingValue': 5, 'RatingKey': 'fhrs_5_en-gb', 'RatingDate': '2021-10-03T00:00:00', 'LocalAuthorityCode': '188', 'LocalAuthorityName': 'Folkestone and Hythe', 'LocalAuthorityWebSite': 'http://www.folkestone-hythe.gov.uk', 'LocalAuthorityEmailAddress': 'foodteam@folkestone-hythe.gov.uk', 'scores': {'Hygiene': 0, 'Structural': 0, 'ConfidenceInManagement': 0}, 'SchemeType': 'FHRS', 'geocode': {'longitude': 1.18590330311705, 'latitude': 51.0783519967076}, 'RightToReply': '', 'Distance': 4591.914705329384, 'NewRatingPending': False, 'meta': {'dataSource': None, 'extractDate': '0001-01-01T00:00:00', 'itemCount': 0, 'returncode': None, 'totalCount': 0, 'totalPages': 0, 'pageSize': 0, 'pageNumber': 0}, 'links': [{'rel': 'self', 'href': 'https://api.ratings.food.gov.uk/establishments/1058635'}]}\n",
      "Document with numeric ratings: {'_id': ObjectId('6498904a24b97107a60c11e1'), 'FHRSID': 1401065, 'ChangesByServerID': 0, 'LocalAuthorityBusinessID': 'PI/000078133', 'BusinessName': 'Shesells Seashells', 'BusinessType': 'Takeaway/sandwich shop', 'BusinessTypeID': 7844, 'AddressLine1': 'Folkestone Harbour', 'AddressLine2': 'Harbour Approach Road', 'AddressLine3': 'Folkestone', 'AddressLine4': 'Kent', 'PostCode': '', 'Phone': '', 'RatingValue': 5, 'RatingKey': 'fhrs_5_en-gb', 'RatingDate': '2021-09-26T00:00:00', 'LocalAuthorityCode': '188', 'LocalAuthorityName': 'Folkestone and Hythe', 'LocalAuthorityWebSite': 'http://www.folkestone-hythe.gov.uk', 'LocalAuthorityEmailAddress': 'foodteam@folkestone-hythe.gov.uk', 'scores': {'Hygiene': 0, 'Structural': 5, 'ConfidenceInManagement': 0}, 'SchemeType': 'FHRS', 'geocode': {'longitude': 1.18590330311705, 'latitude': 51.0783519967076}, 'RightToReply': '', 'Distance': 4591.914705329384, 'NewRatingPending': False, 'meta': {'dataSource': None, 'extractDate': '0001-01-01T00:00:00', 'itemCount': 0, 'returncode': None, 'totalCount': 0, 'totalPages': 0, 'pageSize': 0, 'pageNumber': 0}, 'links': [{'rel': 'self', 'href': 'https://api.ratings.food.gov.uk/establishments/1401065'}]}\n",
      "Document with numeric ratings: {'_id': ObjectId('6498904a24b97107a60c11e2'), 'FHRSID': 1058636, 'ChangesByServerID': 0, 'LocalAuthorityBusinessID': 'PI/000076450', 'BusinessName': 'Babaji', 'BusinessType': 'Takeaway/sandwich shop', 'BusinessTypeID': 7844, 'AddressLine1': 'Folkestone Harbour', 'AddressLine2': 'Harbour Approach Road', 'AddressLine3': 'Folkestone', 'AddressLine4': 'Kent', 'PostCode': '', 'Phone': '', 'RatingValue': 4, 'RatingKey': 'fhrs_4_en-gb', 'RatingDate': '2021-08-13T00:00:00', 'LocalAuthorityCode': '188', 'LocalAuthorityName': 'Folkestone and Hythe', 'LocalAuthorityWebSite': 'http://www.folkestone-hythe.gov.uk', 'LocalAuthorityEmailAddress': 'foodteam@folkestone-hythe.gov.uk', 'scores': {'Hygiene': None, 'Structural': None, 'ConfidenceInManagement': None}, 'SchemeType': 'FHRS', 'geocode': {'longitude': 1.18590330311705, 'latitude': 51.0783519967076}, 'RightToReply': '', 'Distance': 4591.914705329384, 'NewRatingPending': False, 'meta': {'dataSource': None, 'extractDate': '0001-01-01T00:00:00', 'itemCount': 0, 'returncode': None, 'totalCount': 0, 'totalPages': 0, 'pageSize': 0, 'pageNumber': 0}, 'links': [{'rel': 'self', 'href': 'https://api.ratings.food.gov.uk/establishments/1058636'}]}\n",
      "Document with numeric ratings: {'_id': ObjectId('6498904a24b97107a60c11e3'), 'FHRSID': 865873, 'ChangesByServerID': 0, 'LocalAuthorityBusinessID': 'PI/000074303', 'BusinessName': 'Sole Kitchen - Harbour Arm', 'BusinessType': 'Takeaway/sandwich shop', 'BusinessTypeID': 7844, 'AddressLine1': 'Folkestone Harbour', 'AddressLine2': 'Harbour Approach Road', 'AddressLine3': 'Folkestone', 'AddressLine4': 'Kent', 'PostCode': '', 'Phone': '', 'RatingValue': 4, 'RatingKey': 'fhrs_4_en-gb', 'RatingDate': '2021-10-03T00:00:00', 'LocalAuthorityCode': '188', 'LocalAuthorityName': 'Folkestone and Hythe', 'LocalAuthorityWebSite': 'http://www.folkestone-hythe.gov.uk', 'LocalAuthorityEmailAddress': 'foodteam@folkestone-hythe.gov.uk', 'scores': {'Hygiene': 0, 'Structural': 10, 'ConfidenceInManagement': 10}, 'SchemeType': 'FHRS', 'geocode': {'longitude': 1.18590330311705, 'latitude': 51.0783519967076}, 'RightToReply': '', 'Distance': 4591.914705329384, 'NewRatingPending': False, 'meta': {'dataSource': None, 'extractDate': '0001-01-01T00:00:00', 'itemCount': 0, 'returncode': None, 'totalCount': 0, 'totalPages': 0, 'pageSize': 0, 'pageNumber': 0}, 'links': [{'rel': 'self', 'href': 'https://api.ratings.food.gov.uk/establishments/865873'}]}\n",
      "Document with numeric ratings: {'_id': ObjectId('6498904a24b97107a60c11e4'), 'FHRSID': 1427428, 'ChangesByServerID': 0, 'LocalAuthorityBusinessID': 'PI/000078143', 'BusinessName': 'The Taco Shed', 'BusinessType': 'Takeaway/sandwich shop', 'BusinessTypeID': 7844, 'AddressLine1': 'Folkestone Harbour', 'AddressLine2': 'Harbour Approach Road', 'AddressLine3': 'Folkestone', 'AddressLine4': 'Kent', 'PostCode': '', 'Phone': '', 'RatingValue': 2, 'RatingKey': 'fhrs_2_en-gb', 'RatingDate': '2021-06-06T00:00:00', 'LocalAuthorityCode': '188', 'LocalAuthorityName': 'Folkestone and Hythe', 'LocalAuthorityWebSite': 'http://www.folkestone-hythe.gov.uk', 'LocalAuthorityEmailAddress': 'foodteam@folkestone-hythe.gov.uk', 'scores': {'Hygiene': 10, 'Structural': 15, 'ConfidenceInManagement': 10}, 'SchemeType': 'FHRS', 'geocode': {'longitude': 1.18590330311705, 'latitude': 51.0783519967076}, 'RightToReply': '', 'Distance': 4591.914705329384, 'NewRatingPending': False, 'meta': {'dataSource': None, 'extractDate': '0001-01-01T00:00:00', 'itemCount': 0, 'returncode': None, 'totalCount': 0, 'totalPages': 0, 'pageSize': 0, 'pageNumber': 0}, 'links': [{'rel': 'self', 'href': 'https://api.ratings.food.gov.uk/establishments/1427428'}]}\n",
      "Document with numeric ratings: {'_id': ObjectId('6498904a24b97107a60c11e5'), 'FHRSID': 1245690, 'ChangesByServerID': 0, 'LocalAuthorityBusinessID': 'PI/000077672', 'BusinessName': 'The Big Greek Bus', 'BusinessType': 'Mobile caterer', 'BusinessTypeID': 7846, 'AddressLine1': 'Folkestone Harbour', 'AddressLine2': 'Harbour Approach Road', 'AddressLine3': 'Folkestone', 'AddressLine4': 'Kent', 'PostCode': '', 'Phone': '', 'RatingValue': 5, 'RatingKey': 'fhrs_5_en-gb', 'RatingDate': '2019-05-09T00:00:00', 'LocalAuthorityCode': '188', 'LocalAuthorityName': 'Folkestone and Hythe', 'LocalAuthorityWebSite': 'http://www.folkestone-hythe.gov.uk', 'LocalAuthorityEmailAddress': 'foodteam@folkestone-hythe.gov.uk', 'scores': {'Hygiene': 5, 'Structural': 5, 'ConfidenceInManagement': 5}, 'SchemeType': 'FHRS', 'geocode': {'longitude': 1.18590330311705, 'latitude': 51.0783519967076}, 'RightToReply': '', 'Distance': 4591.914705329384, 'NewRatingPending': False, 'meta': {'dataSource': None, 'extractDate': '0001-01-01T00:00:00', 'itemCount': 0, 'returncode': None, 'totalCount': 0, 'totalPages': 0, 'pageSize': 0, 'pageNumber': 0}, 'links': [{'rel': 'self', 'href': 'https://api.ratings.food.gov.uk/establishments/1245690'}]}\n",
      "Document with numeric ratings: {'_id': ObjectId('6498904a24b97107a60c11e6'), 'FHRSID': 1401064, 'ChangesByServerID': 0, 'LocalAuthorityBusinessID': 'PI/000078132', 'BusinessName': 'Burrito Buoy', 'BusinessType': 'Takeaway/sandwich shop', 'BusinessTypeID': 7844, 'AddressLine1': 'Folkestone Harbour', 'AddressLine2': 'Harbour Approach Road', 'AddressLine3': 'Folkestone', 'AddressLine4': 'Kent', 'PostCode': '', 'Phone': '', 'RatingValue': 5, 'RatingKey': 'fhrs_5_en-gb', 'RatingDate': '2021-10-03T00:00:00', 'LocalAuthorityCode': '188', 'LocalAuthorityName': 'Folkestone and Hythe', 'LocalAuthorityWebSite': 'http://www.folkestone-hythe.gov.uk', 'LocalAuthorityEmailAddress': 'foodteam@folkestone-hythe.gov.uk', 'scores': {'Hygiene': 0, 'Structural': 0, 'ConfidenceInManagement': 0}, 'SchemeType': 'FHRS', 'geocode': {'longitude': 1.18590330311705, 'latitude': 51.0783519967076}, 'RightToReply': '', 'Distance': 4591.914705329384, 'NewRatingPending': False, 'meta': {'dataSource': None, 'extractDate': '0001-01-01T00:00:00', 'itemCount': 0, 'returncode': None, 'totalCount': 0, 'totalPages': 0, 'pageSize': 0, 'pageNumber': 0}, 'links': [{'rel': 'self', 'href': 'https://api.ratings.food.gov.uk/establishments/1401064'}]}\n",
      "Document with numeric ratings: {'_id': ObjectId('6498904a24b97107a60c11e7'), 'FHRSID': 1495235, 'ChangesByServerID': 0, 'LocalAuthorityBusinessID': 'PI/000078180', 'BusinessName': 'II Pakkero', 'BusinessType': 'Takeaway/sandwich shop', 'BusinessTypeID': 7844, 'AddressLine1': 'Folkestone Harbour', 'AddressLine2': 'Harbour Approach Road', 'AddressLine3': 'Folkestone', 'AddressLine4': 'Kent', 'PostCode': '', 'Phone': '', 'RatingValue': 5, 'RatingKey': 'fhrs_5_en-gb', 'RatingDate': '2022-05-26T00:00:00', 'LocalAuthorityCode': '188', 'LocalAuthorityName': 'Folkestone and Hythe', 'LocalAuthorityWebSite': 'http://www.folkestone-hythe.gov.uk', 'LocalAuthorityEmailAddress': 'foodteam@folkestone-hythe.gov.uk', 'scores': {'Hygiene': 0, 'Structural': 0, 'ConfidenceInManagement': 5}, 'SchemeType': 'FHRS', 'geocode': {'longitude': 1.18590330311705, 'latitude': 51.0783519967076}, 'RightToReply': '', 'Distance': 4591.914705329384, 'NewRatingPending': False, 'meta': {'dataSource': None, 'extractDate': '0001-01-01T00:00:00', 'itemCount': 0, 'returncode': None, 'totalCount': 0, 'totalPages': 0, 'pageSize': 0, 'pageNumber': 0}, 'links': [{'rel': 'self', 'href': 'https://api.ratings.food.gov.uk/establishments/1495235'}]}\n",
      "Document with numeric ratings: {'_id': ObjectId('6498904a24b97107a60c11e8'), 'FHRSID': 1519633, 'ChangesByServerID': 0, 'LocalAuthorityBusinessID': 'PI/000078214', 'BusinessName': 'Go Dutch', 'BusinessType': 'Takeaway/sandwich shop', 'BusinessTypeID': 7844, 'AddressLine1': 'Folkestone Harbour', 'AddressLine2': 'Harbour Approach Road', 'AddressLine3': 'Folkestone', 'AddressLine4': 'Kent', 'PostCode': '', 'Phone': '', 'RatingValue': 5, 'RatingKey': 'fhrs_5_en-gb', 'RatingDate': '2022-05-26T00:00:00', 'LocalAuthorityCode': '188', 'LocalAuthorityName': 'Folkestone and Hythe', 'LocalAuthorityWebSite': 'http://www.folkestone-hythe.gov.uk', 'LocalAuthorityEmailAddress': 'foodteam@folkestone-hythe.gov.uk', 'scores': {'Hygiene': 5, 'Structural': 5, 'ConfidenceInManagement': 5}, 'SchemeType': 'FHRS', 'geocode': {'longitude': 1.18590330311705, 'latitude': 51.0783519967076}, 'RightToReply': '', 'Distance': 4591.914705329384, 'NewRatingPending': False, 'meta': {'dataSource': None, 'extractDate': '0001-01-01T00:00:00', 'itemCount': 0, 'returncode': None, 'totalCount': 0, 'totalPages': 0, 'pageSize': 0, 'pageNumber': 0}, 'links': [{'rel': 'self', 'href': 'https://api.ratings.food.gov.uk/establishments/1519633'}]}\n",
      "Document with numeric ratings: {'_id': ObjectId('6498904a24b97107a60c11e9'), 'FHRSID': 1519634, 'ChangesByServerID': 0, 'LocalAuthorityBusinessID': 'PI/000078215', 'BusinessName': 'A Taste of Thailand', 'BusinessType': 'Takeaway/sandwich shop', 'BusinessTypeID': 7844, 'AddressLine1': 'Folkestone Harbour', 'AddressLine2': 'Harbour Approach Road', 'AddressLine3': 'Folkestone', 'AddressLine4': 'Kent', 'PostCode': '', 'Phone': '', 'RatingValue': 3, 'RatingKey': 'fhrs_3_en-gb', 'RatingDate': '2022-08-03T00:00:00', 'LocalAuthorityCode': '188', 'LocalAuthorityName': 'Folkestone and Hythe', 'LocalAuthorityWebSite': 'http://www.folkestone-hythe.gov.uk', 'LocalAuthorityEmailAddress': 'foodteam@folkestone-hythe.gov.uk', 'scores': {'Hygiene': 10, 'Structural': 10, 'ConfidenceInManagement': 10}, 'SchemeType': 'FHRS', 'geocode': {'longitude': 1.18590330311705, 'latitude': 51.0783519967076}, 'RightToReply': '', 'Distance': 4591.914705329384, 'NewRatingPending': False, 'meta': {'dataSource': None, 'extractDate': '0001-01-01T00:00:00', 'itemCount': 0, 'returncode': None, 'totalCount': 0, 'totalPages': 0, 'pageSize': 0, 'pageNumber': 0}, 'links': [{'rel': 'self', 'href': 'https://api.ratings.food.gov.uk/establishments/1519634'}]}\n",
      "Document with numeric ratings: {'_id': ObjectId('6498904a24b97107a60c11eb'), 'FHRSID': 904205, 'ChangesByServerID': 0, 'LocalAuthorityBusinessID': 'PI/000074727', 'BusinessName': 'Lighthouse Champagne and Music Bar', 'BusinessType': 'Pub/bar/nightclub', 'BusinessTypeID': 7843, 'AddressLine1': 'Folkestone Harbour', 'AddressLine2': 'Harbour Approach Road', 'AddressLine3': 'Folkestone', 'AddressLine4': 'Kent', 'PostCode': '', 'Phone': '', 'RatingValue': 5, 'RatingKey': 'fhrs_5_en-gb', 'RatingDate': '2022-06-17T00:00:00', 'LocalAuthorityCode': '188', 'LocalAuthorityName': 'Folkestone and Hythe', 'LocalAuthorityWebSite': 'http://www.folkestone-hythe.gov.uk', 'LocalAuthorityEmailAddress': 'foodteam@folkestone-hythe.gov.uk', 'scores': {'Hygiene': 5, 'Structural': 5, 'ConfidenceInManagement': 5}, 'SchemeType': 'FHRS', 'geocode': {'longitude': 1.18590330311705, 'latitude': 51.0783519967076}, 'RightToReply': '', 'Distance': 4591.914705329384, 'NewRatingPending': False, 'meta': {'dataSource': None, 'extractDate': '0001-01-01T00:00:00', 'itemCount': 0, 'returncode': None, 'totalCount': 0, 'totalPages': 0, 'pageSize': 0, 'pageNumber': 0}, 'links': [{'rel': 'self', 'href': 'https://api.ratings.food.gov.uk/establishments/904205'}]}\n",
      "Document with numeric ratings: {'_id': ObjectId('6498904a24b97107a60c11ee'), 'FHRSID': 289564, 'ChangesByServerID': 0, 'LocalAuthorityBusinessID': 'PI/000040717', 'BusinessName': 'Grand Burstin Hotel', 'BusinessType': 'Hotel/bed & breakfast/guest house', 'BusinessTypeID': 7842, 'AddressLine1': 'Hotel Burstin', 'AddressLine2': 'Marine Parade', 'AddressLine3': 'Folkestone', 'AddressLine4': 'Kent', 'PostCode': 'CT20 1TX', 'Phone': '', 'RatingValue': 2, 'RatingKey': 'fhrs_2_en-gb', 'RatingDate': '2022-03-23T00:00:00', 'LocalAuthorityCode': '188', 'LocalAuthorityName': 'Folkestone and Hythe', 'LocalAuthorityWebSite': 'http://www.folkestone-hythe.gov.uk', 'LocalAuthorityEmailAddress': 'foodteam@folkestone-hythe.gov.uk', 'scores': {'Hygiene': 10, 'Structural': 15, 'ConfidenceInManagement': 10}, 'SchemeType': 'FHRS', 'geocode': {'longitude': 1.18516, 'latitude': 51.078449}, 'RightToReply': '', 'Distance': 4591.945434106528, 'NewRatingPending': False, 'meta': {'dataSource': None, 'extractDate': '0001-01-01T00:00:00', 'itemCount': 0, 'returncode': None, 'totalCount': 0, 'totalPages': 0, 'pageSize': 0, 'pageNumber': 0}, 'links': [{'rel': 'self', 'href': 'https://api.ratings.food.gov.uk/establishments/289564'}]}\n",
      "Document with numeric ratings: {'_id': ObjectId('6498904a24b97107a60c11ef'), 'FHRSID': 1534958, 'ChangesByServerID': 0, 'LocalAuthorityBusinessID': 'PI/000079093', 'BusinessName': 'The Lighthouse Tasting Rooms', 'BusinessType': 'Restaurant/Cafe/Canteen', 'BusinessTypeID': 1, 'AddressLine1': 'Folkestone Harbour', 'AddressLine2': 'Harbour Approach Road', 'AddressLine3': 'Folkestone', 'AddressLine4': 'Kent', 'PostCode': '', 'Phone': '', 'RatingValue': 5, 'RatingKey': 'fhrs_5_en-gb', 'RatingDate': '2022-08-03T00:00:00', 'LocalAuthorityCode': '188', 'LocalAuthorityName': 'Folkestone and Hythe', 'LocalAuthorityWebSite': 'http://www.folkestone-hythe.gov.uk', 'LocalAuthorityEmailAddress': 'foodteam@folkestone-hythe.gov.uk', 'scores': {'Hygiene': 0, 'Structural': 5, 'ConfidenceInManagement': 0}, 'SchemeType': 'FHRS', 'geocode': {'longitude': 1.18590330311705, 'latitude': 51.0783519967076}, 'RightToReply': '', 'Distance': 4591.914705329384, 'NewRatingPending': False, 'meta': {'dataSource': None, 'extractDate': '0001-01-01T00:00:00', 'itemCount': 0, 'returncode': None, 'totalCount': 0, 'totalPages': 0, 'pageSize': 0, 'pageNumber': 0}, 'links': [{'rel': 'self', 'href': 'https://api.ratings.food.gov.uk/establishments/1534958'}]}\n",
      "Document with numeric ratings: {'_id': ObjectId('6498904a24b97107a60c11f0'), 'FHRSID': 666451, 'ChangesByServerID': 0, 'LocalAuthorityBusinessID': 'PI/000072161', 'BusinessName': 'The Captains Table', 'BusinessType': 'Restaurant/Cafe/Canteen', 'BusinessTypeID': 1, 'AddressLine1': '26 The Stade', 'AddressLine2': 'Folkestone', 'AddressLine3': 'Kent', 'AddressLine4': '', 'PostCode': 'CT19 6AE', 'Phone': '', 'RatingValue': 5, 'RatingKey': 'fhrs_5_en-gb', 'RatingDate': '2019-12-19T00:00:00', 'LocalAuthorityCode': '188', 'LocalAuthorityName': 'Folkestone and Hythe', 'LocalAuthorityWebSite': 'http://www.folkestone-hythe.gov.uk', 'LocalAuthorityEmailAddress': 'foodteam@folkestone-hythe.gov.uk', 'scores': {'Hygiene': 0, 'Structural': 5, 'ConfidenceInManagement': 5}, 'SchemeType': 'FHRS', 'geocode': {'longitude': 1.187083, 'latitude': 51.080673}, 'RightToReply': '', 'Distance': 4591.95885588741, 'NewRatingPending': False, 'meta': {'dataSource': None, 'extractDate': '0001-01-01T00:00:00', 'itemCount': 0, 'returncode': None, 'totalCount': 0, 'totalPages': 0, 'pageSize': 0, 'pageNumber': 0}, 'links': [{'rel': 'self', 'href': 'https://api.ratings.food.gov.uk/establishments/666451'}]}\n",
      "Document with numeric ratings: {'_id': ObjectId('6498904a24b97107a60c11f1'), 'FHRSID': 1273628, 'ChangesByServerID': 0, 'LocalAuthorityBusinessID': 'PI/000072454', 'BusinessName': 'Sandys', 'BusinessType': 'Takeaway/sandwich shop', 'BusinessTypeID': 7844, 'AddressLine1': '4 Back Street', 'AddressLine2': 'Folkestone', 'AddressLine3': 'Kent', 'AddressLine4': '', 'PostCode': 'CT19 6NN', 'Phone': '', 'RatingValue': 5, 'RatingKey': 'fhrs_5_en-gb', 'RatingDate': '2021-10-10T00:00:00', 'LocalAuthorityCode': '188', 'LocalAuthorityName': 'Folkestone and Hythe', 'LocalAuthorityWebSite': 'http://www.folkestone-hythe.gov.uk', 'LocalAuthorityEmailAddress': 'foodteam@folkestone-hythe.gov.uk', 'scores': {'Hygiene': 5, 'Structural': 0, 'ConfidenceInManagement': 0}, 'SchemeType': 'FHRS', 'geocode': {'longitude': 1.186825, 'latitude': 51.080446}, 'RightToReply': '', 'Distance': 4591.959734543383, 'NewRatingPending': False, 'meta': {'dataSource': None, 'extractDate': '0001-01-01T00:00:00', 'itemCount': 0, 'returncode': None, 'totalCount': 0, 'totalPages': 0, 'pageSize': 0, 'pageNumber': 0}, 'links': [{'rel': 'self', 'href': 'https://api.ratings.food.gov.uk/establishments/1273628'}]}\n",
      "Document with numeric ratings: {'_id': ObjectId('6498904a24b97107a60c11f2'), 'FHRSID': 548374, 'ChangesByServerID': 0, 'LocalAuthorityBusinessID': 'PI/000063956', 'BusinessName': 'Little Switzerland Cafe', 'BusinessType': 'Restaurant/Cafe/Canteen', 'BusinessTypeID': 1, 'AddressLine1': 'Little Switzerland Caravan Site', 'AddressLine2': 'Wear Bay Road', 'AddressLine3': 'Folkestone', 'AddressLine4': 'Kent', 'PostCode': 'CT19 6PS', 'Phone': '', 'RatingValue': 5, 'RatingKey': 'fhrs_5_en-gb', 'RatingDate': '2019-04-24T00:00:00', 'LocalAuthorityCode': '188', 'LocalAuthorityName': 'Folkestone and Hythe', 'LocalAuthorityWebSite': 'http://www.folkestone-hythe.gov.uk', 'LocalAuthorityEmailAddress': 'foodteam@folkestone-hythe.gov.uk', 'scores': {'Hygiene': 5, 'Structural': 5, 'ConfidenceInManagement': 5}, 'SchemeType': 'FHRS', 'geocode': {'longitude': 1.202055, 'latitude': 51.095015}, 'RightToReply': '', 'Distance': 4591.952041503925, 'NewRatingPending': False, 'meta': {'dataSource': None, 'extractDate': '0001-01-01T00:00:00', 'itemCount': 0, 'returncode': None, 'totalCount': 0, 'totalPages': 0, 'pageSize': 0, 'pageNumber': 0}, 'links': [{'rel': 'self', 'href': 'https://api.ratings.food.gov.uk/establishments/548374'}]}\n",
      "Document with numeric ratings: {'_id': ObjectId('6498904a24b97107a60c11f3'), 'FHRSID': 465785, 'ChangesByServerID': 0, 'LocalAuthorityBusinessID': 'PI/000065124', 'BusinessName': 'Pent Stream Cafe - The Hatch', 'BusinessType': 'Takeaway/sandwich shop', 'BusinessTypeID': 7844, 'AddressLine1': 'The Cafe', 'AddressLine2': 'Beach Street', 'AddressLine3': 'Folkestone', 'AddressLine4': 'Kent', 'PostCode': '', 'Phone': '', 'RatingValue': 5, 'RatingKey': 'fhrs_5_en-gb', 'RatingDate': '2019-04-30T00:00:00', 'LocalAuthorityCode': '188', 'LocalAuthorityName': 'Folkestone and Hythe', 'LocalAuthorityWebSite': 'http://www.folkestone-hythe.gov.uk', 'LocalAuthorityEmailAddress': 'foodteam@folkestone-hythe.gov.uk', 'scores': {'Hygiene': 5, 'Structural': 5, 'ConfidenceInManagement': 5}, 'SchemeType': 'FHRS', 'geocode': {'longitude': 1.18628335007084, 'latitude': 51.079985650005}, 'RightToReply': '', 'Distance': 4591.962188592177, 'NewRatingPending': False, 'meta': {'dataSource': None, 'extractDate': '0001-01-01T00:00:00', 'itemCount': 0, 'returncode': None, 'totalCount': 0, 'totalPages': 0, 'pageSize': 0, 'pageNumber': 0}, 'links': [{'rel': 'self', 'href': 'https://api.ratings.food.gov.uk/establishments/465785'}]}\n",
      "Document with numeric ratings: {'_id': ObjectId('6498904a24b97107a60c11f4'), 'FHRSID': 537371, 'ChangesByServerID': 0, 'LocalAuthorityBusinessID': 'PI/000064960', 'BusinessName': 'Herberts', 'BusinessType': 'Restaurant/Cafe/Canteen', 'BusinessTypeID': 1, 'AddressLine1': '2 Fish Market', 'AddressLine2': 'Folkestone', 'AddressLine3': 'Kent', 'AddressLine4': '', 'PostCode': 'CT19 6AA', 'Phone': '', 'RatingValue': 5, 'RatingKey': 'fhrs_5_en-gb', 'RatingDate': '2017-05-11T00:00:00', 'LocalAuthorityCode': '188', 'LocalAuthorityName': 'Folkestone and Hythe', 'LocalAuthorityWebSite': 'http://www.folkestone-hythe.gov.uk', 'LocalAuthorityEmailAddress': 'foodteam@folkestone-hythe.gov.uk', 'scores': {'Hygiene': 0, 'Structural': 0, 'ConfidenceInManagement': 0}, 'SchemeType': 'FHRS', 'geocode': {'longitude': 1.186485, 'latitude': 51.080284}, 'RightToReply': '', 'Distance': 4591.966041732812, 'NewRatingPending': False, 'meta': {'dataSource': None, 'extractDate': '0001-01-01T00:00:00', 'itemCount': 0, 'returncode': None, 'totalCount': 0, 'totalPages': 0, 'pageSize': 0, 'pageNumber': 0}, 'links': [{'rel': 'self', 'href': 'https://api.ratings.food.gov.uk/establishments/537371'}]}\n",
      "Document with numeric ratings: {'_id': ObjectId('6498904a24b97107a60c11f5'), 'FHRSID': 289742, 'ChangesByServerID': 0, 'LocalAuthorityBusinessID': 'PI/000067338', 'BusinessName': 'Rocksalt', 'BusinessType': 'Restaurant/Cafe/Canteen', 'BusinessTypeID': 1, 'AddressLine1': '4-5 Fish Market', 'AddressLine2': 'Folkestone', 'AddressLine3': 'Kent', 'AddressLine4': '', 'PostCode': 'CT19 6AA', 'Phone': '', 'RatingValue': 5, 'RatingKey': 'fhrs_5_en-gb', 'RatingDate': '2019-02-19T00:00:00', 'LocalAuthorityCode': '188', 'LocalAuthorityName': 'Folkestone and Hythe', 'LocalAuthorityWebSite': 'http://www.folkestone-hythe.gov.uk', 'LocalAuthorityEmailAddress': 'foodteam@folkestone-hythe.gov.uk', 'scores': {'Hygiene': 0, 'Structural': 0, 'ConfidenceInManagement': 0}, 'SchemeType': 'FHRS', 'geocode': {'longitude': 1.186485, 'latitude': 51.080284}, 'RightToReply': '', 'Distance': 4591.966041732812, 'NewRatingPending': False, 'meta': {'dataSource': None, 'extractDate': '0001-01-01T00:00:00', 'itemCount': 0, 'returncode': None, 'totalCount': 0, 'totalPages': 0, 'pageSize': 0, 'pageNumber': 0}, 'links': [{'rel': 'self', 'href': 'https://api.ratings.food.gov.uk/establishments/289742'}]}\n",
      "Document with numeric ratings: {'_id': ObjectId('6498904a24b97107a60c11f8'), 'FHRSID': 489670, 'ChangesByServerID': 0, 'LocalAuthorityBusinessID': 'PI/000034905', 'BusinessName': 'Royal George', 'BusinessType': 'Pub/bar/nightclub', 'BusinessTypeID': 7843, 'AddressLine1': '18 Beach Street', 'AddressLine2': 'Folkestone', 'AddressLine3': 'Kent', 'AddressLine4': '', 'PostCode': 'CT20 1QW', 'Phone': '', 'RatingValue': 5, 'RatingKey': 'fhrs_5_en-gb', 'RatingDate': '2019-03-19T00:00:00', 'LocalAuthorityCode': '188', 'LocalAuthorityName': 'Folkestone and Hythe', 'LocalAuthorityWebSite': 'http://www.folkestone-hythe.gov.uk', 'LocalAuthorityEmailAddress': 'foodteam@folkestone-hythe.gov.uk', 'scores': {'Hygiene': 0, 'Structural': 0, 'ConfidenceInManagement': 0}, 'SchemeType': 'FHRS', 'geocode': {'longitude': 1.186067, 'latitude': 51.080224}, 'RightToReply': '', 'Distance': 4591.979020799969, 'NewRatingPending': False, 'meta': {'dataSource': None, 'extractDate': '0001-01-01T00:00:00', 'itemCount': 0, 'returncode': None, 'totalCount': 0, 'totalPages': 0, 'pageSize': 0, 'pageNumber': 0}, 'links': [{'rel': 'self', 'href': 'https://api.ratings.food.gov.uk/establishments/489670'}]}\n",
      "Document with numeric ratings: {'_id': ObjectId('6498904a24b97107a60c11f9'), 'FHRSID': 930437, 'ChangesByServerID': 0, 'LocalAuthorityBusinessID': 'PI/000064317', 'BusinessName': 'Martello Grove Academy', 'BusinessType': 'School/college/university', 'BusinessTypeID': 7845, 'AddressLine1': 'Warren Way', 'AddressLine2': 'Folkestone', 'AddressLine3': 'Kent', 'AddressLine4': '', 'PostCode': 'CT19 6DT', 'Phone': '', 'RatingValue': 5, 'RatingKey': 'fhrs_5_en-gb', 'RatingDate': '2018-12-11T00:00:00', 'LocalAuthorityCode': '188', 'LocalAuthorityName': 'Folkestone and Hythe', 'LocalAuthorityWebSite': 'http://www.folkestone-hythe.gov.uk', 'LocalAuthorityEmailAddress': 'foodteam@folkestone-hythe.gov.uk', 'scores': {'Hygiene': 0, 'Structural': 5, 'ConfidenceInManagement': 0}, 'SchemeType': 'FHRS', 'geocode': {'longitude': 1.194306, 'latitude': 51.087887}, 'RightToReply': '', 'Distance': 4591.966573826913, 'NewRatingPending': False, 'meta': {'dataSource': None, 'extractDate': '0001-01-01T00:00:00', 'itemCount': 0, 'returncode': None, 'totalCount': 0, 'totalPages': 0, 'pageSize': 0, 'pageNumber': 0}, 'links': [{'rel': 'self', 'href': 'https://api.ratings.food.gov.uk/establishments/930437'}]}\n",
      "Document with numeric ratings: {'_id': ObjectId('6498904a24b97107a60c11fa'), 'FHRSID': 577178, 'ChangesByServerID': 0, 'LocalAuthorityBusinessID': 'PI/000039900', 'BusinessName': 'Gillespies', 'BusinessType': 'Pub/bar/nightclub', 'BusinessTypeID': 7843, 'AddressLine1': '28-30 Harbour Street', 'AddressLine2': 'Folkestone', 'AddressLine3': 'Kent', 'AddressLine4': '', 'PostCode': 'CT20 1QN', 'Phone': '', 'RatingValue': 5, 'RatingKey': 'fhrs_5_en-gb', 'RatingDate': '2013-07-24T00:00:00', 'LocalAuthorityCode': '188', 'LocalAuthorityName': 'Folkestone and Hythe', 'LocalAuthorityWebSite': 'http://www.folkestone-hythe.gov.uk', 'LocalAuthorityEmailAddress': 'foodteam@folkestone-hythe.gov.uk', 'scores': {'Hygiene': 0, 'Structural': 5, 'ConfidenceInManagement': 0}, 'SchemeType': 'FHRS', 'geocode': {'longitude': 1.185368, 'latitude': 51.079613}, 'RightToReply': '', 'Distance': 4591.981553562698, 'NewRatingPending': False, 'meta': {'dataSource': None, 'extractDate': '0001-01-01T00:00:00', 'itemCount': 0, 'returncode': None, 'totalCount': 0, 'totalPages': 0, 'pageSize': 0, 'pageNumber': 0}, 'links': [{'rel': 'self', 'href': 'https://api.ratings.food.gov.uk/establishments/577178'}]}\n",
      "Document with numeric ratings: {'_id': ObjectId('6498904a24b97107a60c11fb'), 'FHRSID': 289553, 'ChangesByServerID': 0, 'LocalAuthorityBusinessID': 'PI/000038694', 'BusinessName': 'Gran Canaria Hotel', 'BusinessType': 'Hotel/bed & breakfast/guest house', 'BusinessTypeID': 7842, 'AddressLine1': '4-5 Marine Parade', 'AddressLine2': 'Folkestone', 'AddressLine3': 'Kent', 'AddressLine4': '', 'PostCode': 'CT20 1PX', 'Phone': '', 'RatingValue': 3, 'RatingKey': 'fhrs_3_en-gb', 'RatingDate': '2018-08-16T00:00:00', 'LocalAuthorityCode': '188', 'LocalAuthorityName': 'Folkestone and Hythe', 'LocalAuthorityWebSite': 'http://www.folkestone-hythe.gov.uk', 'LocalAuthorityEmailAddress': 'foodteam@folkestone-hythe.gov.uk', 'scores': {'Hygiene': 10, 'Structural': 5, 'ConfidenceInManagement': 10}, 'SchemeType': 'FHRS', 'geocode': {'longitude': 1.183585, 'latitude': 51.077971}, 'RightToReply': '', 'Distance': 4591.984885739537, 'NewRatingPending': False, 'meta': {'dataSource': None, 'extractDate': '0001-01-01T00:00:00', 'itemCount': 0, 'returncode': None, 'totalCount': 0, 'totalPages': 0, 'pageSize': 0, 'pageNumber': 0}, 'links': [{'rel': 'self', 'href': 'https://api.ratings.food.gov.uk/establishments/289553'}]}\n",
      "Document with numeric ratings: {'_id': ObjectId('6498904a24b97107a60c11fc'), 'FHRSID': 1023912, 'ChangesByServerID': 0, 'LocalAuthorityBusinessID': 'PI/000076188', 'BusinessName': 'Harbour Inn', 'BusinessType': 'Pub/bar/nightclub', 'BusinessTypeID': 7843, 'AddressLine1': '24-26 Harbour Street', 'AddressLine2': 'Folkestone', 'AddressLine3': 'Kent', 'AddressLine4': '', 'PostCode': 'CT20 1QN', 'Phone': '', 'RatingValue': 5, 'RatingKey': 'fhrs_5_en-gb', 'RatingDate': '2022-05-20T00:00:00', 'LocalAuthorityCode': '188', 'LocalAuthorityName': 'Folkestone and Hythe', 'LocalAuthorityWebSite': 'http://www.folkestone-hythe.gov.uk', 'LocalAuthorityEmailAddress': 'foodteam@folkestone-hythe.gov.uk', 'scores': {'Hygiene': None, 'Structural': None, 'ConfidenceInManagement': None}, 'SchemeType': 'FHRS', 'geocode': {'longitude': 1.185368, 'latitude': 51.079613}, 'RightToReply': '', 'Distance': 4591.981553562698, 'NewRatingPending': False, 'meta': {'dataSource': None, 'extractDate': '0001-01-01T00:00:00', 'itemCount': 0, 'returncode': None, 'totalCount': 0, 'totalPages': 0, 'pageSize': 0, 'pageNumber': 0}, 'links': [{'rel': 'self', 'href': 'https://api.ratings.food.gov.uk/establishments/1023912'}]}\n",
      "Document with numeric ratings: {'_id': ObjectId('6498904a24b97107a60c11fe'), 'FHRSID': 1046418, 'ChangesByServerID': 0, 'LocalAuthorityBusinessID': 'PI/000076426', 'BusinessName': 'Custom Folkestone', 'BusinessType': 'Restaurant/Cafe/Canteen', 'BusinessTypeID': 1, 'AddressLine1': 'Folkestone Harbour', 'AddressLine2': 'Harbour Approach Road', 'AddressLine3': 'Folkestone', 'AddressLine4': 'Kent', 'PostCode': '', 'Phone': '', 'RatingValue': 5, 'RatingKey': 'fhrs_5_en-gb', 'RatingDate': '2018-11-30T00:00:00', 'LocalAuthorityCode': '188', 'LocalAuthorityName': 'Folkestone and Hythe', 'LocalAuthorityWebSite': 'http://www.folkestone-hythe.gov.uk', 'LocalAuthorityEmailAddress': 'foodteam@folkestone-hythe.gov.uk', 'scores': {'Hygiene': 0, 'Structural': 5, 'ConfidenceInManagement': 5}, 'SchemeType': 'FHRS', 'geocode': {'longitude': 1.18590330311705, 'latitude': 51.0783519967076}, 'RightToReply': '', 'Distance': 4591.914705329384, 'NewRatingPending': False, 'meta': {'dataSource': None, 'extractDate': '0001-01-01T00:00:00', 'itemCount': 0, 'returncode': None, 'totalCount': 0, 'totalPages': 0, 'pageSize': 0, 'pageNumber': 0}, 'links': [{'rel': 'self', 'href': 'https://api.ratings.food.gov.uk/establishments/1046418'}]}\n",
      "Document with numeric ratings: {'_id': ObjectId('6498904a24b97107a60c11ff'), 'FHRSID': 511409, 'ChangesByServerID': 0, 'LocalAuthorityBusinessID': 'PI/000039931', 'BusinessName': 'The Lifeboat', 'BusinessType': 'Pub/bar/nightclub', 'BusinessTypeID': 7843, 'AddressLine1': '42 North Street', 'AddressLine2': 'Folkestone', 'AddressLine3': 'Kent', 'AddressLine4': '', 'PostCode': 'CT19 6AF', 'Phone': '', 'RatingValue': 5, 'RatingKey': 'fhrs_5_en-gb', 'RatingDate': '2020-07-22T00:00:00', 'LocalAuthorityCode': '188', 'LocalAuthorityName': 'Folkestone and Hythe', 'LocalAuthorityWebSite': 'http://www.folkestone-hythe.gov.uk', 'LocalAuthorityEmailAddress': 'foodteam@folkestone-hythe.gov.uk', 'scores': {'Hygiene': None, 'Structural': None, 'ConfidenceInManagement': None}, 'SchemeType': 'FHRS', 'geocode': {'longitude': 1.186715, 'latitude': 51.081546}, 'RightToReply': '', 'Distance': 4592.005041613854, 'NewRatingPending': False, 'meta': {'dataSource': None, 'extractDate': '0001-01-01T00:00:00', 'itemCount': 0, 'returncode': None, 'totalCount': 0, 'totalPages': 0, 'pageSize': 0, 'pageNumber': 0}, 'links': [{'rel': 'self', 'href': 'https://api.ratings.food.gov.uk/establishments/511409'}]}\n",
      "Document with numeric ratings: {'_id': ObjectId('6498904a24b97107a60c1200'), 'FHRSID': 289351, 'ChangesByServerID': 0, 'LocalAuthorityBusinessID': 'PI/000002381', 'BusinessName': 'St Peters Church Of England Primary School', 'BusinessType': 'School/college/university', 'BusinessTypeID': 7845, 'AddressLine1': 'The Durlocks', 'AddressLine2': 'Folkestone', 'AddressLine3': 'Kent', 'AddressLine4': '', 'PostCode': 'CT19 6AH', 'Phone': '', 'RatingValue': 5, 'RatingKey': 'fhrs_5_en-gb', 'RatingDate': '2019-09-09T00:00:00', 'LocalAuthorityCode': '188', 'LocalAuthorityName': 'Folkestone and Hythe', 'LocalAuthorityWebSite': 'http://www.folkestone-hythe.gov.uk', 'LocalAuthorityEmailAddress': 'foodteam@folkestone-hythe.gov.uk', 'scores': {'Hygiene': 5, 'Structural': 0, 'ConfidenceInManagement': 0}, 'SchemeType': 'FHRS', 'geocode': {'longitude': 1.187056, 'latitude': 51.081735}, 'RightToReply': '', 'Distance': 4591.999712242712, 'NewRatingPending': False, 'meta': {'dataSource': None, 'extractDate': '0001-01-01T00:00:00', 'itemCount': 0, 'returncode': None, 'totalCount': 0, 'totalPages': 0, 'pageSize': 0, 'pageNumber': 0}, 'links': [{'rel': 'self', 'href': 'https://api.ratings.food.gov.uk/establishments/289351'}]}\n",
      "Document with numeric ratings: {'_id': ObjectId('6498904a24b97107a60c1201'), 'FHRSID': 1003979, 'ChangesByServerID': 0, 'LocalAuthorityBusinessID': 'PI/000075765', 'BusinessName': 'Sunshine Grill', 'BusinessType': 'Takeaway/sandwich shop', 'BusinessTypeID': 7844, 'AddressLine1': '5-6 Lower Sandgate Road', 'AddressLine2': 'Folkestone', 'AddressLine3': 'Kent', 'AddressLine4': '', 'PostCode': 'CT20 1QJ', 'Phone': '', 'RatingValue': 3, 'RatingKey': 'fhrs_3_en-gb', 'RatingDate': '2022-07-22T00:00:00', 'LocalAuthorityCode': '188', 'LocalAuthorityName': 'Folkestone and Hythe', 'LocalAuthorityWebSite': 'http://www.folkestone-hythe.gov.uk', 'LocalAuthorityEmailAddress': 'foodteam@folkestone-hythe.gov.uk', 'scores': {'Hygiene': 5, 'Structural': 10, 'ConfidenceInManagement': 10}, 'SchemeType': 'FHRS', 'geocode': {'longitude': 1.184194, 'latitude': 51.07915}, 'RightToReply': '', 'Distance': 4592.006953184866, 'NewRatingPending': False, 'meta': {'dataSource': None, 'extractDate': '0001-01-01T00:00:00', 'itemCount': 0, 'returncode': None, 'totalCount': 0, 'totalPages': 0, 'pageSize': 0, 'pageNumber': 0}, 'links': [{'rel': 'self', 'href': 'https://api.ratings.food.gov.uk/establishments/1003979'}]}\n",
      "Document with numeric ratings: {'_id': ObjectId('6498904a24b97107a60c1202'), 'FHRSID': 289500, 'ChangesByServerID': 0, 'LocalAuthorityBusinessID': 'PI/000032000', 'BusinessName': 'Folkestone Yacht & Motor Boat Club', 'BusinessType': 'Pub/bar/nightclub', 'BusinessTypeID': 7843, 'AddressLine1': 'North Street', 'AddressLine2': 'Folkestone', 'AddressLine3': 'Kent', 'AddressLine4': '', 'PostCode': 'CT19 6AF', 'Phone': '', 'RatingValue': 5, 'RatingKey': 'fhrs_5_en-gb', 'RatingDate': '2014-12-11T00:00:00', 'LocalAuthorityCode': '188', 'LocalAuthorityName': 'Folkestone and Hythe', 'LocalAuthorityWebSite': 'http://www.folkestone-hythe.gov.uk', 'LocalAuthorityEmailAddress': 'foodteam@folkestone-hythe.gov.uk', 'scores': {'Hygiene': 0, 'Structural': 0, 'ConfidenceInManagement': 0}, 'SchemeType': 'FHRS', 'geocode': {'longitude': 1.186309, 'latitude': 51.080838}, 'RightToReply': '', 'Distance': 4591.993254324702, 'NewRatingPending': False, 'meta': {'dataSource': None, 'extractDate': '0001-01-01T00:00:00', 'itemCount': 0, 'returncode': None, 'totalCount': 0, 'totalPages': 0, 'pageSize': 0, 'pageNumber': 0}, 'links': [{'rel': 'self', 'href': 'https://api.ratings.food.gov.uk/establishments/289500'}]}\n",
      "Document with numeric ratings: {'_id': ObjectId('6498904a24b97107a60c1204'), 'FHRSID': 289765, 'ChangesByServerID': 0, 'LocalAuthorityBusinessID': 'PI/000068014', 'BusinessName': 'Harbour Fish Bar', 'BusinessType': 'Takeaway/sandwich shop', 'BusinessTypeID': 7844, 'AddressLine1': '1-3 Lower Sandgate Road', 'AddressLine2': 'Folkestone', 'AddressLine3': 'Kent', 'AddressLine4': '', 'PostCode': 'CT20 1QJ', 'Phone': '', 'RatingValue': 2, 'RatingKey': 'fhrs_2_en-gb', 'RatingDate': '2021-10-10T00:00:00', 'LocalAuthorityCode': '188', 'LocalAuthorityName': 'Folkestone and Hythe', 'LocalAuthorityWebSite': 'http://www.folkestone-hythe.gov.uk', 'LocalAuthorityEmailAddress': 'foodteam@folkestone-hythe.gov.uk', 'scores': {'Hygiene': 10, 'Structural': 15, 'ConfidenceInManagement': 10}, 'SchemeType': 'FHRS', 'geocode': {'longitude': 1.184194, 'latitude': 51.07915}, 'RightToReply': '', 'Distance': 4592.006953184866, 'NewRatingPending': False, 'meta': {'dataSource': None, 'extractDate': '0001-01-01T00:00:00', 'itemCount': 0, 'returncode': None, 'totalCount': 0, 'totalPages': 0, 'pageSize': 0, 'pageNumber': 0}, 'links': [{'rel': 'self', 'href': 'https://api.ratings.food.gov.uk/establishments/289765'}]}\n",
      "Document with numeric ratings: {'_id': ObjectId('6498904a24b97107a60c1206'), 'FHRSID': 289715, 'ChangesByServerID': 0, 'LocalAuthorityBusinessID': 'PI/000065985', 'BusinessName': 'Sai Stores', 'BusinessType': 'Retailers - other', 'BusinessTypeID': 4613, 'AddressLine1': 'Ground Floor Business Premises', 'AddressLine2': '33 Warren Road', 'AddressLine3': 'Folkestone', 'AddressLine4': 'Kent', 'PostCode': 'CT19 6DE', 'Phone': '', 'RatingValue': 5, 'RatingKey': 'fhrs_5_en-gb', 'RatingDate': '2016-03-07T00:00:00', 'LocalAuthorityCode': '188', 'LocalAuthorityName': 'Folkestone and Hythe', 'LocalAuthorityWebSite': 'http://www.folkestone-hythe.gov.uk', 'LocalAuthorityEmailAddress': 'foodteam@folkestone-hythe.gov.uk', 'scores': {'Hygiene': 0, 'Structural': 0, 'ConfidenceInManagement': 5}, 'SchemeType': 'FHRS', 'geocode': {'longitude': 1.190896, 'latitude': 51.086262}, 'RightToReply': '', 'Distance': 4592.029780091008, 'NewRatingPending': False, 'meta': {'dataSource': None, 'extractDate': '0001-01-01T00:00:00', 'itemCount': 0, 'returncode': None, 'totalCount': 0, 'totalPages': 0, 'pageSize': 0, 'pageNumber': 0}, 'links': [{'rel': 'self', 'href': 'https://api.ratings.food.gov.uk/establishments/289715'}]}\n",
      "Document with numeric ratings: {'_id': ObjectId('6498904a24b97107a60c1208'), 'FHRSID': 1259988, 'ChangesByServerID': 0, 'LocalAuthorityBusinessID': 'PI/000077683', 'BusinessName': 'Pick Up Pintxos', 'BusinessType': 'Restaurant/Cafe/Canteen', 'BusinessTypeID': 1, 'AddressLine1': '2 South Street', 'AddressLine2': 'Folkestone', 'AddressLine3': 'Kent', 'AddressLine4': '', 'PostCode': 'CT20 1RW', 'Phone': '', 'RatingValue': 5, 'RatingKey': 'fhrs_5_en-gb', 'RatingDate': '2020-10-09T00:00:00', 'LocalAuthorityCode': '188', 'LocalAuthorityName': 'Folkestone and Hythe', 'LocalAuthorityWebSite': 'http://www.folkestone-hythe.gov.uk', 'LocalAuthorityEmailAddress': 'foodteam@folkestone-hythe.gov.uk', 'scores': {'Hygiene': 0, 'Structural': 0, 'ConfidenceInManagement': 0}, 'SchemeType': 'FHRS', 'geocode': {'longitude': 1.184916, 'latitude': 51.0803}, 'RightToReply': '', 'Distance': 4592.023816194083, 'NewRatingPending': False, 'meta': {'dataSource': None, 'extractDate': '0001-01-01T00:00:00', 'itemCount': 0, 'returncode': None, 'totalCount': 0, 'totalPages': 0, 'pageSize': 0, 'pageNumber': 0}, 'links': [{'rel': 'self', 'href': 'https://api.ratings.food.gov.uk/establishments/1259988'}]}\n",
      "Document with numeric ratings: {'_id': ObjectId('6498904a24b97107a60c1209'), 'FHRSID': 289646, 'ChangesByServerID': 0, 'LocalAuthorityBusinessID': 'PI/000054018', 'BusinessName': 'Caretech - Martello Centre', 'BusinessType': 'Other catering premises', 'BusinessTypeID': 7841, 'AddressLine1': 'Martello Centre', 'AddressLine2': 'Neason Way', 'AddressLine3': 'Folkestone', 'AddressLine4': 'Kent', 'PostCode': 'CT19 6BF', 'Phone': '', 'RatingValue': 5, 'RatingKey': 'fhrs_5_en-gb', 'RatingDate': '2019-02-28T00:00:00', 'LocalAuthorityCode': '188', 'LocalAuthorityName': 'Folkestone and Hythe', 'LocalAuthorityWebSite': 'http://www.folkestone-hythe.gov.uk', 'LocalAuthorityEmailAddress': 'foodteam@folkestone-hythe.gov.uk', 'scores': {'Hygiene': 0, 'Structural': 5, 'ConfidenceInManagement': 0}, 'SchemeType': 'FHRS', 'geocode': {'longitude': 1.1920251, 'latitude': 51.0877821}, 'RightToReply': '', 'Distance': 4592.045727028996, 'NewRatingPending': False, 'meta': {'dataSource': None, 'extractDate': '0001-01-01T00:00:00', 'itemCount': 0, 'returncode': None, 'totalCount': 0, 'totalPages': 0, 'pageSize': 0, 'pageNumber': 0}, 'links': [{'rel': 'self', 'href': 'https://api.ratings.food.gov.uk/establishments/289646'}]}\n",
      "Document with numeric ratings: {'_id': ObjectId('6498904a24b97107a60c120a'), 'FHRSID': 1082304, 'ChangesByServerID': 0, 'LocalAuthorityBusinessID': 'PI/000058454', 'BusinessName': 'Bella Vita', 'BusinessType': 'Restaurant/Cafe/Canteen', 'BusinessTypeID': 1, 'AddressLine1': 'Ground Floor Commercial Unit', 'AddressLine2': '71 The Old High Street', 'AddressLine3': 'Folkestone', 'AddressLine4': 'Kent', 'PostCode': 'CT20 1RN', 'Phone': '', 'RatingValue': 5, 'RatingKey': 'fhrs_5_en-gb', 'RatingDate': '2018-10-25T00:00:00', 'LocalAuthorityCode': '188', 'LocalAuthorityName': 'Folkestone and Hythe', 'LocalAuthorityWebSite': 'http://www.folkestone-hythe.gov.uk', 'LocalAuthorityEmailAddress': 'foodteam@folkestone-hythe.gov.uk', 'scores': {'Hygiene': 0, 'Structural': 5, 'ConfidenceInManagement': 5}, 'SchemeType': 'FHRS', 'geocode': {'longitude': 1.18421399593353, 'latitude': 51.0804824829102}, 'RightToReply': '', 'Distance': 4592.056247988812, 'NewRatingPending': False, 'meta': {'dataSource': None, 'extractDate': '0001-01-01T00:00:00', 'itemCount': 0, 'returncode': None, 'totalCount': 0, 'totalPages': 0, 'pageSize': 0, 'pageNumber': 0}, 'links': [{'rel': 'self', 'href': 'https://api.ratings.food.gov.uk/establishments/1082304'}]}\n",
      "Document with numeric ratings: {'_id': ObjectId('6498904a24b97107a60c120b'), 'FHRSID': 289552, 'ChangesByServerID': 0, 'LocalAuthorityBusinessID': 'PI/000038690', 'BusinessName': 'The British Lion', 'BusinessType': 'Pub/bar/nightclub', 'BusinessTypeID': 7843, 'AddressLine1': '8-10 The Bayle', 'AddressLine2': 'Folkestone', 'AddressLine3': 'Kent', 'AddressLine4': '', 'PostCode': 'CT20 1SQ', 'Phone': '', 'RatingValue': 5, 'RatingKey': 'fhrs_5_en-gb', 'RatingDate': '2017-08-16T00:00:00', 'LocalAuthorityCode': '188', 'LocalAuthorityName': 'Folkestone and Hythe', 'LocalAuthorityWebSite': 'http://www.folkestone-hythe.gov.uk', 'LocalAuthorityEmailAddress': 'foodteam@folkestone-hythe.gov.uk', 'scores': {'Hygiene': 0, 'Structural': 5, 'ConfidenceInManagement': 5}, 'SchemeType': 'FHRS', 'geocode': {'longitude': 1.182962, 'latitude': 51.0793}, 'RightToReply': '', 'Distance': 4592.057480144372, 'NewRatingPending': False, 'meta': {'dataSource': None, 'extractDate': '0001-01-01T00:00:00', 'itemCount': 0, 'returncode': None, 'totalCount': 0, 'totalPages': 0, 'pageSize': 0, 'pageNumber': 0}, 'links': [{'rel': 'self', 'href': 'https://api.ratings.food.gov.uk/establishments/289552'}]}\n",
      "Document with numeric ratings: {'_id': ObjectId('6498904a24b97107a60c120c'), 'FHRSID': 505847, 'ChangesByServerID': 0, 'LocalAuthorityBusinessID': 'PI/000038692', 'BusinessName': 'The Guildhall', 'BusinessType': 'Pub/bar/nightclub', 'BusinessTypeID': 7843, 'AddressLine1': '42 The Bayle', 'AddressLine2': 'Folkestone', 'AddressLine3': 'Kent', 'AddressLine4': '', 'PostCode': 'CT20 1SQ', 'Phone': '', 'RatingValue': 4, 'RatingKey': 'fhrs_4_en-gb', 'RatingDate': '2019-11-14T00:00:00', 'LocalAuthorityCode': '188', 'LocalAuthorityName': 'Folkestone and Hythe', 'LocalAuthorityWebSite': 'http://www.folkestone-hythe.gov.uk', 'LocalAuthorityEmailAddress': 'foodteam@folkestone-hythe.gov.uk', 'scores': {'Hygiene': 0, 'Structural': 10, 'ConfidenceInManagement': 5}, 'SchemeType': 'FHRS', 'geocode': {'longitude': 1.182962, 'latitude': 51.079301}, 'RightToReply': '', 'Distance': 4592.057517684561, 'NewRatingPending': False, 'meta': {'dataSource': None, 'extractDate': '0001-01-01T00:00:00', 'itemCount': 0, 'returncode': None, 'totalCount': 0, 'totalPages': 0, 'pageSize': 0, 'pageNumber': 0}, 'links': [{'rel': 'self', 'href': 'https://api.ratings.food.gov.uk/establishments/505847'}]}\n",
      "Document with numeric ratings: {'_id': ObjectId('6498904a24b97107a60c120d'), 'FHRSID': 1241756, 'ChangesByServerID': 0, 'LocalAuthorityBusinessID': 'PI/000077659', 'BusinessName': 'Tips Wok Box', 'BusinessType': 'Takeaway/sandwich shop', 'BusinessTypeID': 7844, 'AddressLine1': 'Ground Floor Business Premises', 'AddressLine2': '4 Tontine Street', 'AddressLine3': 'Folkestone', 'AddressLine4': 'Kent', 'PostCode': 'CT20 1JU', 'Phone': '', 'RatingValue': 4, 'RatingKey': 'fhrs_4_en-gb', 'RatingDate': '2020-03-12T00:00:00', 'LocalAuthorityCode': '188', 'LocalAuthorityName': 'Folkestone and Hythe', 'LocalAuthorityWebSite': 'http://www.folkestone-hythe.gov.uk', 'LocalAuthorityEmailAddress': 'foodteam@folkestone-hythe.gov.uk', 'scores': {'Hygiene': 10, 'Structural': 0, 'ConfidenceInManagement': 10}, 'SchemeType': 'FHRS', 'geocode': {'longitude': 1.18431901931763, 'latitude': 51.0809478759766}, 'RightToReply': '', 'Distance': 4592.069892717788, 'NewRatingPending': False, 'meta': {'dataSource': None, 'extractDate': '0001-01-01T00:00:00', 'itemCount': 0, 'returncode': None, 'totalCount': 0, 'totalPages': 0, 'pageSize': 0, 'pageNumber': 0}, 'links': [{'rel': 'self', 'href': 'https://api.ratings.food.gov.uk/establishments/1241756'}]}\n",
      "Document with numeric ratings: {'_id': ObjectId('6498904a24b97107a60c120e'), 'FHRSID': 990692, 'ChangesByServerID': 0, 'LocalAuthorityBusinessID': 'PI/000075725', 'BusinessName': 'Wholefood Pop-up', 'BusinessType': 'Retailers - other', 'BusinessTypeID': 4613, 'AddressLine1': 'Ground Floor Busines Premises', 'AddressLine2': '42 The Old High Street', 'AddressLine3': 'Folkestone', 'AddressLine4': 'Kent', 'PostCode': 'CT20 1RN', 'Phone': '', 'RatingValue': 5, 'RatingKey': 'fhrs_5_en-gb', 'RatingDate': '2017-09-14T00:00:00', 'LocalAuthorityCode': '188', 'LocalAuthorityName': 'Folkestone and Hythe', 'LocalAuthorityWebSite': 'http://www.folkestone-hythe.gov.uk', 'LocalAuthorityEmailAddress': 'foodteam@folkestone-hythe.gov.uk', 'scores': {'Hygiene': 0, 'Structural': 0, 'ConfidenceInManagement': 0}, 'SchemeType': 'FHRS', 'geocode': {'longitude': 1.18421399593353, 'latitude': 51.0804824829102}, 'RightToReply': '', 'Distance': 4592.056247988812, 'NewRatingPending': False, 'meta': {'dataSource': None, 'extractDate': '0001-01-01T00:00:00', 'itemCount': 0, 'returncode': None, 'totalCount': 0, 'totalPages': 0, 'pageSize': 0, 'pageNumber': 0}, 'links': [{'rel': 'self', 'href': 'https://api.ratings.food.gov.uk/establishments/990692'}]}\n",
      "Document with numeric ratings: {'_id': ObjectId('6498904a24b97107a60c120f'), 'FHRSID': 703619, 'ChangesByServerID': 0, 'LocalAuthorityBusinessID': 'PI/000054068', 'BusinessName': 'Jolsons', 'BusinessType': 'Pub/bar/nightclub', 'BusinessTypeID': 7843, 'AddressLine1': '2-6 Tontine Street', 'AddressLine2': 'Folkestone', 'AddressLine3': 'Kent', 'AddressLine4': '', 'PostCode': 'CT20 1JU', 'Phone': '', 'RatingValue': 4, 'RatingKey': 'fhrs_4_en-gb', 'RatingDate': '2014-09-05T00:00:00', 'LocalAuthorityCode': '188', 'LocalAuthorityName': 'Folkestone and Hythe', 'LocalAuthorityWebSite': 'http://www.folkestone-hythe.gov.uk', 'LocalAuthorityEmailAddress': 'foodteam@folkestone-hythe.gov.uk', 'scores': {'Hygiene': 5, 'Structural': 10, 'ConfidenceInManagement': 5}, 'SchemeType': 'FHRS', 'geocode': {'longitude': 1.18429, 'latitude': 51.080956}, 'RightToReply': '', 'Distance': 4592.0712551609, 'NewRatingPending': False, 'meta': {'dataSource': None, 'extractDate': '0001-01-01T00:00:00', 'itemCount': 0, 'returncode': None, 'totalCount': 0, 'totalPages': 0, 'pageSize': 0, 'pageNumber': 0}, 'links': [{'rel': 'self', 'href': 'https://api.ratings.food.gov.uk/establishments/703619'}]}\n",
      "Document with numeric ratings: {'_id': ObjectId('6498904a24b97107a60c1210'), 'FHRSID': 289393, 'ChangesByServerID': 0, 'LocalAuthorityBusinessID': 'PI/000010133', 'BusinessName': 'Klm Newsagents', 'BusinessType': 'Retailers - other', 'BusinessTypeID': 4613, 'AddressLine1': 'Ground Floor Business Premises', 'AddressLine2': '10 Tontine Street', 'AddressLine3': 'Folkestone', 'AddressLine4': 'Kent', 'PostCode': 'CT20 1JU', 'Phone': '', 'RatingValue': 3, 'RatingKey': 'fhrs_3_en-gb', 'RatingDate': '2018-11-28T00:00:00', 'LocalAuthorityCode': '188', 'LocalAuthorityName': 'Folkestone and Hythe', 'LocalAuthorityWebSite': 'http://www.folkestone-hythe.gov.uk', 'LocalAuthorityEmailAddress': 'foodteam@folkestone-hythe.gov.uk', 'scores': {'Hygiene': 10, 'Structural': 10, 'ConfidenceInManagement': 10}, 'SchemeType': 'FHRS', 'geocode': {'longitude': 1.18429, 'latitude': 51.080956}, 'RightToReply': '', 'Distance': 4592.0712551609, 'NewRatingPending': False, 'meta': {'dataSource': None, 'extractDate': '0001-01-01T00:00:00', 'itemCount': 0, 'returncode': None, 'totalCount': 0, 'totalPages': 0, 'pageSize': 0, 'pageNumber': 0}, 'links': [{'rel': 'self', 'href': 'https://api.ratings.food.gov.uk/establishments/289393'}]}\n",
      "Document with numeric ratings: {'_id': ObjectId('6498904a24b97107a60c1211'), 'FHRSID': 289735, 'ChangesByServerID': 0, 'LocalAuthorityBusinessID': 'PI/000066549', 'BusinessName': 'Diamond Cafe', 'BusinessType': 'Restaurant/Cafe/Canteen', 'BusinessTypeID': 1, 'AddressLine1': '20-22 Tontine Street', 'AddressLine2': 'Folkestone', 'AddressLine3': 'Kent', 'AddressLine4': '', 'PostCode': 'CT20 1JU', 'Phone': '', 'RatingValue': 5, 'RatingKey': 'fhrs_5_en-gb', 'RatingDate': '2019-08-29T00:00:00', 'LocalAuthorityCode': '188', 'LocalAuthorityName': 'Folkestone and Hythe', 'LocalAuthorityWebSite': 'http://www.folkestone-hythe.gov.uk', 'LocalAuthorityEmailAddress': 'foodteam@folkestone-hythe.gov.uk', 'scores': {'Hygiene': 5, 'Structural': 0, 'ConfidenceInManagement': 0}, 'SchemeType': 'FHRS', 'geocode': {'longitude': 1.18429, 'latitude': 51.080956}, 'RightToReply': '', 'Distance': 4592.0712551609, 'NewRatingPending': False, 'meta': {'dataSource': None, 'extractDate': '0001-01-01T00:00:00', 'itemCount': 0, 'returncode': None, 'totalCount': 0, 'totalPages': 0, 'pageSize': 0, 'pageNumber': 0}, 'links': [{'rel': 'self', 'href': 'https://api.ratings.food.gov.uk/establishments/289735'}]}\n",
      "Document with numeric ratings: {'_id': ObjectId('6498904a24b97107a60c1212'), 'FHRSID': 1222292, 'ChangesByServerID': 0, 'LocalAuthorityBusinessID': 'PI/000077215', 'BusinessName': 'The Old Buoy', 'BusinessType': 'Pub/bar/nightclub', 'BusinessTypeID': 7843, 'AddressLine1': 'Ground Floor Business Premises', 'AddressLine2': '46 Tontine Street', 'AddressLine3': 'Folkestone', 'AddressLine4': 'Kent', 'PostCode': 'CT20 1JU', 'Phone': '', 'RatingValue': 5, 'RatingKey': 'fhrs_5_en-gb', 'RatingDate': '2020-02-06T00:00:00', 'LocalAuthorityCode': '188', 'LocalAuthorityName': 'Folkestone and Hythe', 'LocalAuthorityWebSite': 'http://www.folkestone-hythe.gov.uk', 'LocalAuthorityEmailAddress': 'foodteam@folkestone-hythe.gov.uk', 'scores': {'Hygiene': 0, 'Structural': 5, 'ConfidenceInManagement': 5}, 'SchemeType': 'FHRS', 'geocode': {'longitude': 1.18429, 'latitude': 51.080956}, 'RightToReply': '', 'Distance': 4592.0712551609, 'NewRatingPending': False, 'meta': {'dataSource': None, 'extractDate': '0001-01-01T00:00:00', 'itemCount': 0, 'returncode': None, 'totalCount': 0, 'totalPages': 0, 'pageSize': 0, 'pageNumber': 0}, 'links': [{'rel': 'self', 'href': 'https://api.ratings.food.gov.uk/establishments/1222292'}]}\n",
      "Document with numeric ratings: {'_id': ObjectId('6498904a24b97107a60c1213'), 'FHRSID': 1078268, 'ChangesByServerID': 0, 'LocalAuthorityBusinessID': 'PI/000076630', 'BusinessName': 'Touchbase Care', 'BusinessType': 'Restaurant/Cafe/Canteen', 'BusinessTypeID': 1, 'AddressLine1': '17-19 Tontine Street', 'AddressLine2': 'Folkestone', 'AddressLine3': 'Kent', 'AddressLine4': '', 'PostCode': 'CT20 1JT', 'Phone': '', 'RatingValue': 5, 'RatingKey': 'fhrs_5_en-gb', 'RatingDate': '2021-09-17T00:00:00', 'LocalAuthorityCode': '188', 'LocalAuthorityName': 'Folkestone and Hythe', 'LocalAuthorityWebSite': 'http://www.folkestone-hythe.gov.uk', 'LocalAuthorityEmailAddress': 'foodteam@folkestone-hythe.gov.uk', 'scores': {'Hygiene': 0, 'Structural': 5, 'ConfidenceInManagement': 0}, 'SchemeType': 'FHRS', 'geocode': {'longitude': 1.183893, 'latitude': 51.080804}, 'RightToReply': '', 'Distance': 4592.080015357777, 'NewRatingPending': False, 'meta': {'dataSource': None, 'extractDate': '0001-01-01T00:00:00', 'itemCount': 0, 'returncode': None, 'totalCount': 0, 'totalPages': 0, 'pageSize': 0, 'pageNumber': 0}, 'links': [{'rel': 'self', 'href': 'https://api.ratings.food.gov.uk/establishments/1078268'}]}\n",
      "Document with numeric ratings: {'_id': ObjectId('6498904a24b97107a60c1214'), 'FHRSID': 289499, 'ChangesByServerID': 0, 'LocalAuthorityBusinessID': 'PI/000031634', 'BusinessName': 'Valiant Sailor', 'BusinessType': 'Pub/bar/nightclub', 'BusinessTypeID': 7843, 'AddressLine1': 'New Dover Road', 'AddressLine2': 'Capel-Le-Ferne', 'AddressLine3': 'Kent', 'AddressLine4': '', 'PostCode': 'CT18 7JJ', 'Phone': '', 'RatingValue': 4, 'RatingKey': 'fhrs_4_en-gb', 'RatingDate': '2019-07-03T00:00:00', 'LocalAuthorityCode': '188', 'LocalAuthorityName': 'Folkestone and Hythe', 'LocalAuthorityWebSite': 'http://www.folkestone-hythe.gov.uk', 'LocalAuthorityEmailAddress': 'foodteam@folkestone-hythe.gov.uk', 'scores': {'Hygiene': 5, 'Structural': 10, 'ConfidenceInManagement': 5}, 'SchemeType': 'FHRS', 'geocode': {'longitude': 1.201433, 'latitude': 51.097794}, 'RightToReply': '', 'Distance': 4592.079084490149, 'NewRatingPending': False, 'meta': {'dataSource': None, 'extractDate': '0001-01-01T00:00:00', 'itemCount': 0, 'returncode': None, 'totalCount': 0, 'totalPages': 0, 'pageSize': 0, 'pageNumber': 0}, 'links': [{'rel': 'self', 'href': 'https://api.ratings.food.gov.uk/establishments/289499'}]}\n",
      "Document with numeric ratings: {'_id': ObjectId('6498904a24b97107a60c1216'), 'FHRSID': 1241750, 'ChangesByServerID': 0, 'LocalAuthorityBusinessID': 'PI/000077649', 'BusinessName': 'The Nook', 'BusinessType': 'Restaurant/Cafe/Canteen', 'BusinessTypeID': 1, 'AddressLine1': 'Ground Floor Business Premises', 'AddressLine2': '43 Tontine Street', 'AddressLine3': 'Folkestone', 'AddressLine4': 'Kent', 'PostCode': 'CT20 1JT', 'Phone': '', 'RatingValue': 4, 'RatingKey': 'fhrs_4_en-gb', 'RatingDate': '2021-09-30T00:00:00', 'LocalAuthorityCode': '188', 'LocalAuthorityName': 'Folkestone and Hythe', 'LocalAuthorityWebSite': 'http://www.folkestone-hythe.gov.uk', 'LocalAuthorityEmailAddress': 'foodteam@folkestone-hythe.gov.uk', 'scores': {'Hygiene': 0, 'Structural': 10, 'ConfidenceInManagement': 10}, 'SchemeType': 'FHRS', 'geocode': {'longitude': 1.183894, 'latitude': 51.080805}, 'RightToReply': '', 'Distance': 4592.080016459564, 'NewRatingPending': False, 'meta': {'dataSource': None, 'extractDate': '0001-01-01T00:00:00', 'itemCount': 0, 'returncode': None, 'totalCount': 0, 'totalPages': 0, 'pageSize': 0, 'pageNumber': 0}, 'links': [{'rel': 'self', 'href': 'https://api.ratings.food.gov.uk/establishments/1241750'}]}\n",
      "Document with numeric ratings: {'_id': ObjectId('6498904a24b97107a60c1217'), 'FHRSID': 1078266, 'ChangesByServerID': 0, 'LocalAuthorityBusinessID': 'PI/000076541', 'BusinessName': 'Carlys', 'BusinessType': 'Retailers - other', 'BusinessTypeID': 4613, 'AddressLine1': 'Retail Unit 2', 'AddressLine2': 'Princes Gate', 'AddressLine3': 'Bayle Street', 'AddressLine4': 'Folkestone', 'PostCode': 'CT20 1SF', 'Phone': '', 'RatingValue': 5, 'RatingKey': 'fhrs_5_en-gb', 'RatingDate': '2018-09-06T00:00:00', 'LocalAuthorityCode': '188', 'LocalAuthorityName': 'Folkestone and Hythe', 'LocalAuthorityWebSite': 'http://www.folkestone-hythe.gov.uk', 'LocalAuthorityEmailAddress': 'foodteam@folkestone-hythe.gov.uk', 'scores': {'Hygiene': 0, 'Structural': 0, 'ConfidenceInManagement': 0}, 'SchemeType': 'FHRS', 'geocode': {'longitude': 1.182875, 'latitude': 51.079905}, 'RightToReply': '', 'Distance': 4592.083362398198, 'NewRatingPending': False, 'meta': {'dataSource': None, 'extractDate': '0001-01-01T00:00:00', 'itemCount': 0, 'returncode': None, 'totalCount': 0, 'totalPages': 0, 'pageSize': 0, 'pageNumber': 0}, 'links': [{'rel': 'self', 'href': 'https://api.ratings.food.gov.uk/establishments/1078266'}]}\n",
      "Document with numeric ratings: {'_id': ObjectId('6498904a24b97107a60c1218'), 'FHRSID': 1043697, 'ChangesByServerID': 0, 'LocalAuthorityBusinessID': 'PI/000076265', 'BusinessName': 'Jam Jar', 'BusinessType': 'Pub/bar/nightclub', 'BusinessTypeID': 7843, 'AddressLine1': 'Ground Floor', 'AddressLine2': '39 Tontine Street', 'AddressLine3': 'Folkestone', 'AddressLine4': 'Kent', 'PostCode': 'CT20 1JT', 'Phone': '', 'RatingValue': 5, 'RatingKey': 'fhrs_5_en-gb', 'RatingDate': '2018-08-23T00:00:00', 'LocalAuthorityCode': '188', 'LocalAuthorityName': 'Folkestone and Hythe', 'LocalAuthorityWebSite': 'http://www.folkestone-hythe.gov.uk', 'LocalAuthorityEmailAddress': 'foodteam@folkestone-hythe.gov.uk', 'scores': {'Hygiene': 0, 'Structural': 0, 'ConfidenceInManagement': 0}, 'SchemeType': 'FHRS', 'geocode': {'longitude': 1.1835476, 'latitude': 51.0810258}, 'RightToReply': '', 'Distance': 4592.100928367722, 'NewRatingPending': False, 'meta': {'dataSource': None, 'extractDate': '0001-01-01T00:00:00', 'itemCount': 0, 'returncode': None, 'totalCount': 0, 'totalPages': 0, 'pageSize': 0, 'pageNumber': 0}, 'links': [{'rel': 'self', 'href': 'https://api.ratings.food.gov.uk/establishments/1043697'}]}\n",
      "Document with numeric ratings: {'_id': ObjectId('6498904a24b97107a60c1219'), 'FHRSID': 873841, 'ChangesByServerID': 0, 'LocalAuthorityBusinessID': 'PI/000074313', 'BusinessName': 'The Cake Junction', 'BusinessType': 'Other catering premises', 'BusinessTypeID': 7841, 'AddressLine1': '27 The Old High Street', 'AddressLine2': 'Folkestone', 'AddressLine3': 'Kent', 'AddressLine4': '', 'PostCode': 'CT20 1RL', 'Phone': '', 'RatingValue': 5, 'RatingKey': 'fhrs_5_en-gb', 'RatingDate': '2018-11-09T00:00:00', 'LocalAuthorityCode': '188', 'LocalAuthorityName': 'Folkestone and Hythe', 'LocalAuthorityWebSite': 'http://www.folkestone-hythe.gov.uk', 'LocalAuthorityEmailAddress': 'foodteam@folkestone-hythe.gov.uk', 'scores': {'Hygiene': 0, 'Structural': 0, 'ConfidenceInManagement': 0}, 'SchemeType': 'FHRS', 'geocode': {'longitude': 1.182805, 'latitude': 51.080339}, 'RightToReply': '', 'Distance': 4592.102205784234, 'NewRatingPending': False, 'meta': {'dataSource': None, 'extractDate': '0001-01-01T00:00:00', 'itemCount': 0, 'returncode': None, 'totalCount': 0, 'totalPages': 0, 'pageSize': 0, 'pageNumber': 0}, 'links': [{'rel': 'self', 'href': 'https://api.ratings.food.gov.uk/establishments/873841'}]}\n",
      "Document with numeric ratings: {'_id': ObjectId('6498904a24b97107a60c121a'), 'FHRSID': 849540, 'ChangesByServerID': 0, 'LocalAuthorityBusinessID': 'PI/000073613', 'BusinessName': 'Steep Street Coffee House', 'BusinessType': 'Restaurant/Cafe/Canteen', 'BusinessTypeID': 1, 'AddressLine1': '18-24 The Old High Street', 'AddressLine2': 'Folkestone', 'AddressLine3': 'Kent', 'AddressLine4': '', 'PostCode': 'CT20 1RL', 'Phone': '', 'RatingValue': 5, 'RatingKey': 'fhrs_5_en-gb', 'RatingDate': '2018-01-16T00:00:00', 'LocalAuthorityCode': '188', 'LocalAuthorityName': 'Folkestone and Hythe', 'LocalAuthorityWebSite': 'http://www.folkestone-hythe.gov.uk', 'LocalAuthorityEmailAddress': 'foodteam@folkestone-hythe.gov.uk', 'scores': {'Hygiene': 0, 'Structural': 0, 'ConfidenceInManagement': 0}, 'SchemeType': 'FHRS', 'geocode': {'longitude': 1.182805, 'latitude': 51.080339}, 'RightToReply': '', 'Distance': 4592.102205784234, 'NewRatingPending': False, 'meta': {'dataSource': None, 'extractDate': '0001-01-01T00:00:00', 'itemCount': 0, 'returncode': None, 'totalCount': 0, 'totalPages': 0, 'pageSize': 0, 'pageNumber': 0}, 'links': [{'rel': 'self', 'href': 'https://api.ratings.food.gov.uk/establishments/849540'}]}\n",
      "Document with numeric ratings: {'_id': ObjectId('6498904a24b97107a60c121b'), 'FHRSID': 289382, 'ChangesByServerID': 0, 'LocalAuthorityBusinessID': 'PI/000008067', 'BusinessName': 'Londis', 'BusinessType': 'Retailers - other', 'BusinessTypeID': 4613, 'AddressLine1': 'Tram Road Filling Station', 'AddressLine2': 'The Tram Road', 'AddressLine3': 'Folkestone', 'AddressLine4': 'Kent', 'PostCode': 'CT20 1TE', 'Phone': '', 'RatingValue': 5, 'RatingKey': 'fhrs_5_en-gb', 'RatingDate': '2014-10-23T00:00:00', 'LocalAuthorityCode': '188', 'LocalAuthorityName': 'Folkestone and Hythe', 'LocalAuthorityWebSite': 'http://www.folkestone-hythe.gov.uk', 'LocalAuthorityEmailAddress': 'foodteam@folkestone-hythe.gov.uk', 'scores': {'Hygiene': 5, 'Structural': 5, 'ConfidenceInManagement': 5}, 'SchemeType': 'FHRS', 'geocode': {'longitude': 1.18601894378662, 'latitude': 51.0818061828613}, 'RightToReply': '', 'Distance': 4592.040172934272, 'NewRatingPending': False, 'meta': {'dataSource': None, 'extractDate': '0001-01-01T00:00:00', 'itemCount': 0, 'returncode': None, 'totalCount': 0, 'totalPages': 0, 'pageSize': 0, 'pageNumber': 0}, 'links': [{'rel': 'self', 'href': 'https://api.ratings.food.gov.uk/establishments/289382'}]}\n",
      "Document with numeric ratings: {'_id': ObjectId('6498904a24b97107a60c121c'), 'FHRSID': 580665, 'ChangesByServerID': 0, 'LocalAuthorityBusinessID': 'PI/000039933', 'BusinessName': 'Eastcliff Tavern', 'BusinessType': 'Pub/bar/nightclub', 'BusinessTypeID': 7843, 'AddressLine1': 'East Cliff Tavern', 'AddressLine2': '13-15 East Cliff', 'AddressLine3': 'Folkestone', 'AddressLine4': 'Kent', 'PostCode': 'CT19 6BU', 'Phone': '', 'RatingValue': 5, 'RatingKey': 'fhrs_5_en-gb', 'RatingDate': '2013-08-20T00:00:00', 'LocalAuthorityCode': '188', 'LocalAuthorityName': 'Folkestone and Hythe', 'LocalAuthorityWebSite': 'http://www.folkestone-hythe.gov.uk', 'LocalAuthorityEmailAddress': 'foodteam@folkestone-hythe.gov.uk', 'scores': {'Hygiene': 0, 'Structural': 5, 'ConfidenceInManagement': 0}, 'SchemeType': 'FHRS', 'geocode': {'longitude': 1.188902, 'latitude': 51.083232}, 'RightToReply': '', 'Distance': 4591.988656570033, 'NewRatingPending': False, 'meta': {'dataSource': None, 'extractDate': '0001-01-01T00:00:00', 'itemCount': 0, 'returncode': None, 'totalCount': 0, 'totalPages': 0, 'pageSize': 0, 'pageNumber': 0}, 'links': [{'rel': 'self', 'href': 'https://api.ratings.food.gov.uk/establishments/580665'}]}\n",
      "Document with numeric ratings: {'_id': ObjectId('6498904a24b97107a60c121d'), 'FHRSID': 1273629, 'ChangesByServerID': 0, 'LocalAuthorityBusinessID': 'PI/000077500', 'BusinessName': 'Folklore', 'BusinessType': 'Restaurant/Cafe/Canteen', 'BusinessTypeID': 1, 'AddressLine1': '69 The Old High Street', 'AddressLine2': 'Folkestone', 'AddressLine3': 'Kent', 'AddressLine4': '', 'PostCode': 'CT20 1RN', 'Phone': '', 'RatingValue': 5, 'RatingKey': 'fhrs_5_en-gb', 'RatingDate': '2021-10-15T00:00:00', 'LocalAuthorityCode': '188', 'LocalAuthorityName': 'Folkestone and Hythe', 'LocalAuthorityWebSite': 'http://www.folkestone-hythe.gov.uk', 'LocalAuthorityEmailAddress': 'foodteam@folkestone-hythe.gov.uk', 'scores': {'Hygiene': 0, 'Structural': 0, 'ConfidenceInManagement': 0}, 'SchemeType': 'FHRS', 'geocode': {'longitude': 1.18425798416138, 'latitude': 51.0804748535156}, 'RightToReply': '', 'Distance': 4592.0543586360545, 'NewRatingPending': False, 'meta': {'dataSource': None, 'extractDate': '0001-01-01T00:00:00', 'itemCount': 0, 'returncode': None, 'totalCount': 0, 'totalPages': 0, 'pageSize': 0, 'pageNumber': 0}, 'links': [{'rel': 'self', 'href': 'https://api.ratings.food.gov.uk/establishments/1273629'}]}\n",
      "Document with numeric ratings: {'_id': ObjectId('6498904a24b97107a60c121f'), 'FHRSID': 734823, 'ChangesByServerID': 0, 'LocalAuthorityBusinessID': 'PI/000071529', 'BusinessName': 'El Cortador', 'BusinessType': 'Restaurant/Cafe/Canteen', 'BusinessTypeID': 1, 'AddressLine1': '41 The Old High Street', 'AddressLine2': 'Folkestone', 'AddressLine3': 'Kent', 'AddressLine4': '', 'PostCode': 'CT20 1RL', 'Phone': '', 'RatingValue': 5, 'RatingKey': 'fhrs_5_en-gb', 'RatingDate': '2016-10-06T00:00:00', 'LocalAuthorityCode': '188', 'LocalAuthorityName': 'Folkestone and Hythe', 'LocalAuthorityWebSite': 'http://www.folkestone-hythe.gov.uk', 'LocalAuthorityEmailAddress': 'foodteam@folkestone-hythe.gov.uk', 'scores': {'Hygiene': 5, 'Structural': 5, 'ConfidenceInManagement': 5}, 'SchemeType': 'FHRS', 'geocode': {'longitude': 1.182805, 'latitude': 51.08034}, 'RightToReply': '', 'Distance': 4592.102243324662, 'NewRatingPending': False, 'meta': {'dataSource': None, 'extractDate': '0001-01-01T00:00:00', 'itemCount': 0, 'returncode': None, 'totalCount': 0, 'totalPages': 0, 'pageSize': 0, 'pageNumber': 0}, 'links': [{'rel': 'self', 'href': 'https://api.ratings.food.gov.uk/establishments/734823'}]}\n",
      "Document with numeric ratings: {'_id': ObjectId('6498904a24b97107a60c1220'), 'FHRSID': 734832, 'ChangesByServerID': 0, 'LocalAuthorityBusinessID': 'PI/000072446', 'BusinessName': 'Big Boys Fine Burger Co', 'BusinessType': 'Restaurant/Cafe/Canteen', 'BusinessTypeID': 1, 'AddressLine1': '35 The Old High Street', 'AddressLine2': 'Folkestone', 'AddressLine3': 'Kent', 'AddressLine4': '', 'PostCode': 'CT20 1RL', 'Phone': '', 'RatingValue': 5, 'RatingKey': 'fhrs_5_en-gb', 'RatingDate': '2020-02-07T00:00:00', 'LocalAuthorityCode': '188', 'LocalAuthorityName': 'Folkestone and Hythe', 'LocalAuthorityWebSite': 'http://www.folkestone-hythe.gov.uk', 'LocalAuthorityEmailAddress': 'foodteam@folkestone-hythe.gov.uk', 'scores': {'Hygiene': 0, 'Structural': 5, 'ConfidenceInManagement': 0}, 'SchemeType': 'FHRS', 'geocode': {'longitude': 1.182805, 'latitude': 51.08034}, 'RightToReply': '', 'Distance': 4592.102243324662, 'NewRatingPending': False, 'meta': {'dataSource': None, 'extractDate': '0001-01-01T00:00:00', 'itemCount': 0, 'returncode': None, 'totalCount': 0, 'totalPages': 0, 'pageSize': 0, 'pageNumber': 0}, 'links': [{'rel': 'self', 'href': 'https://api.ratings.food.gov.uk/establishments/734832'}]}\n",
      "Document with numeric ratings: {'_id': ObjectId('6498904a24b97107a60c1221'), 'FHRSID': 611370, 'ChangesByServerID': 0, 'LocalAuthorityBusinessID': 'PI/000071459', 'BusinessName': 'Kipps Alehouse', 'BusinessType': 'Pub/bar/nightclub', 'BusinessTypeID': 7843, 'AddressLine1': 'Ground Floor Business Premises', 'AddressLine2': '11-15 The Old High Street', 'AddressLine3': 'Folkestone', 'AddressLine4': 'Kent', 'PostCode': 'CT20 1RL', 'Phone': '', 'RatingValue': 5, 'RatingKey': 'fhrs_5_en-gb', 'RatingDate': '2019-06-14T00:00:00', 'LocalAuthorityCode': '188', 'LocalAuthorityName': 'Folkestone and Hythe', 'LocalAuthorityWebSite': 'http://www.folkestone-hythe.gov.uk', 'LocalAuthorityEmailAddress': 'foodteam@folkestone-hythe.gov.uk', 'scores': {'Hygiene': 5, 'Structural': 5, 'ConfidenceInManagement': 5}, 'SchemeType': 'FHRS', 'geocode': {'longitude': 1.182805, 'latitude': 51.08034}, 'RightToReply': '', 'Distance': 4592.102243324662, 'NewRatingPending': False, 'meta': {'dataSource': None, 'extractDate': '0001-01-01T00:00:00', 'itemCount': 0, 'returncode': None, 'totalCount': 0, 'totalPages': 0, 'pageSize': 0, 'pageNumber': 0}, 'links': [{'rel': 'self', 'href': 'https://api.ratings.food.gov.uk/establishments/611370'}]}\n",
      "Document with numeric ratings: {'_id': ObjectId('6498904a24b97107a60c1222'), 'FHRSID': 1105190, 'ChangesByServerID': 0, 'LocalAuthorityBusinessID': 'PI/000076632', 'BusinessName': 'Marleys', 'BusinessType': 'Other catering premises', 'BusinessTypeID': 7841, 'AddressLine1': 'Ground Floor Business Premises', 'AddressLine2': '26-30 The Old High Street', 'AddressLine3': 'Folkestone', 'AddressLine4': 'Kent', 'PostCode': 'CT20 1RL', 'Phone': '', 'RatingValue': 5, 'RatingKey': 'fhrs_5_en-gb', 'RatingDate': '2021-09-30T00:00:00', 'LocalAuthorityCode': '188', 'LocalAuthorityName': 'Folkestone and Hythe', 'LocalAuthorityWebSite': 'http://www.folkestone-hythe.gov.uk', 'LocalAuthorityEmailAddress': 'foodteam@folkestone-hythe.gov.uk', 'scores': {'Hygiene': 5, 'Structural': 5, 'ConfidenceInManagement': 5}, 'SchemeType': 'FHRS', 'geocode': {'longitude': 1.182805, 'latitude': 51.08034}, 'RightToReply': '', 'Distance': 4592.102243324662, 'NewRatingPending': False, 'meta': {'dataSource': None, 'extractDate': '0001-01-01T00:00:00', 'itemCount': 0, 'returncode': None, 'totalCount': 0, 'totalPages': 0, 'pageSize': 0, 'pageNumber': 0}, 'links': [{'rel': 'self', 'href': 'https://api.ratings.food.gov.uk/establishments/1105190'}]}\n",
      "Document with numeric ratings: {'_id': ObjectId('6498904a24b97107a60c1223'), 'FHRSID': 1427423, 'ChangesByServerID': 0, 'LocalAuthorityBusinessID': 'PI/000068740', 'BusinessName': 'Misused Cocktails', 'BusinessType': 'Restaurant/Cafe/Canteen', 'BusinessTypeID': 1, 'AddressLine1': '11-15 The Old High Street', 'AddressLine2': 'Folkestone', 'AddressLine3': 'Kent', 'AddressLine4': '', 'PostCode': 'CT20 1RL', 'Phone': '', 'RatingValue': 5, 'RatingKey': 'fhrs_5_en-gb', 'RatingDate': '2021-11-03T00:00:00', 'LocalAuthorityCode': '188', 'LocalAuthorityName': 'Folkestone and Hythe', 'LocalAuthorityWebSite': 'http://www.folkestone-hythe.gov.uk', 'LocalAuthorityEmailAddress': 'foodteam@folkestone-hythe.gov.uk', 'scores': {'Hygiene': 0, 'Structural': 0, 'ConfidenceInManagement': 0}, 'SchemeType': 'FHRS', 'geocode': {'longitude': 1.1823865, 'latitude': 51.0802956}, 'RightToReply': '', 'Distance': 4592.115827007254, 'NewRatingPending': False, 'meta': {'dataSource': None, 'extractDate': '0001-01-01T00:00:00', 'itemCount': 0, 'returncode': None, 'totalCount': 0, 'totalPages': 0, 'pageSize': 0, 'pageNumber': 0}, 'links': [{'rel': 'self', 'href': 'https://api.ratings.food.gov.uk/establishments/1427423'}]}\n",
      "Document with numeric ratings: {'_id': ObjectId('6498904a24b97107a60c1225'), 'FHRSID': 1380216, 'ChangesByServerID': 0, 'LocalAuthorityBusinessID': 'PI/000078113', 'BusinessName': 'Lucky Chip', 'BusinessType': 'Restaurant/Cafe/Canteen', 'BusinessTypeID': 1, 'AddressLine1': 'Ground Floor Business Premises', 'AddressLine2': '2 Church Street', 'AddressLine3': 'Folkestone', 'AddressLine4': 'Kent', 'PostCode': 'CT20 1SE', 'Phone': '', 'RatingValue': 5, 'RatingKey': 'fhrs_5_en-gb', 'RatingDate': '2021-08-13T00:00:00', 'LocalAuthorityCode': '188', 'LocalAuthorityName': 'Folkestone and Hythe', 'LocalAuthorityWebSite': 'http://www.folkestone-hythe.gov.uk', 'LocalAuthorityEmailAddress': 'foodteam@folkestone-hythe.gov.uk', 'scores': {'Hygiene': None, 'Structural': None, 'ConfidenceInManagement': None}, 'SchemeType': 'FHRS', 'geocode': {'longitude': 1.1813759803772, 'latitude': 51.079532623291}, 'RightToReply': '', 'Distance': 4592.124010103345, 'NewRatingPending': False, 'meta': {'dataSource': None, 'extractDate': '0001-01-01T00:00:00', 'itemCount': 0, 'returncode': None, 'totalCount': 0, 'totalPages': 0, 'pageSize': 0, 'pageNumber': 0}, 'links': [{'rel': 'self', 'href': 'https://api.ratings.food.gov.uk/establishments/1380216'}]}\n",
      "Document with numeric ratings: {'_id': ObjectId('6498904a24b97107a60c1226'), 'FHRSID': 376004, 'ChangesByServerID': 0, 'LocalAuthorityBusinessID': 'PI/000029646', 'BusinessName': 'Hillside Restaurant', 'BusinessType': 'Restaurant/Cafe/Canteen', 'BusinessTypeID': 1, 'AddressLine1': 'Ground Floor Business Premises', 'AddressLine2': '3 George Lane', 'AddressLine3': 'Folkestone', 'AddressLine4': 'Kent', 'PostCode': 'CT20 1RH', 'Phone': '', 'RatingValue': 4, 'RatingKey': 'fhrs_4_en-gb', 'RatingDate': '2020-03-12T00:00:00', 'LocalAuthorityCode': '188', 'LocalAuthorityName': 'Folkestone and Hythe', 'LocalAuthorityWebSite': 'http://www.folkestone-hythe.gov.uk', 'LocalAuthorityEmailAddress': 'foodteam@folkestone-hythe.gov.uk', 'scores': {'Hygiene': 0, 'Structural': 10, 'ConfidenceInManagement': 10}, 'SchemeType': 'FHRS', 'geocode': {'longitude': 1.181832, 'latitude': 51.079889}, 'RightToReply': '', 'Distance': 4592.12077000758, 'NewRatingPending': False, 'meta': {'dataSource': None, 'extractDate': '0001-01-01T00:00:00', 'itemCount': 0, 'returncode': None, 'totalCount': 0, 'totalPages': 0, 'pageSize': 0, 'pageNumber': 0}, 'links': [{'rel': 'self', 'href': 'https://api.ratings.food.gov.uk/establishments/376004'}]}\n",
      "Document with numeric ratings: {'_id': ObjectId('6498904a24b97107a60c1227'), 'FHRSID': 289486, 'ChangesByServerID': 0, 'LocalAuthorityBusinessID': 'PI/000029625', 'BusinessName': 'St Eanswythes Church Of England Primary School', 'BusinessType': 'School/college/university', 'BusinessTypeID': 7845, 'AddressLine1': 'Church Street', 'AddressLine2': 'Folkestone', 'AddressLine3': 'Kent', 'AddressLine4': '', 'PostCode': 'CT20 1SE', 'Phone': '', 'RatingValue': 5, 'RatingKey': 'fhrs_5_en-gb', 'RatingDate': '2017-11-30T00:00:00', 'LocalAuthorityCode': '188', 'LocalAuthorityName': 'Folkestone and Hythe', 'LocalAuthorityWebSite': 'http://www.folkestone-hythe.gov.uk', 'LocalAuthorityEmailAddress': 'foodteam@folkestone-hythe.gov.uk', 'scores': {'Hygiene': 0, 'Structural': 0, 'ConfidenceInManagement': 0}, 'SchemeType': 'FHRS', 'geocode': {'longitude': 1.181365, 'latitude': 51.079542}, 'RightToReply': '', 'Distance': 4592.12476224034, 'NewRatingPending': False, 'meta': {'dataSource': None, 'extractDate': '0001-01-01T00:00:00', 'itemCount': 0, 'returncode': None, 'totalCount': 0, 'totalPages': 0, 'pageSize': 0, 'pageNumber': 0}, 'links': [{'rel': 'self', 'href': 'https://api.ratings.food.gov.uk/establishments/289486'}]}\n",
      "Document with numeric ratings: {'_id': ObjectId('6498904a24b97107a60c1228'), 'FHRSID': 1401056, 'ChangesByServerID': 0, 'LocalAuthorityBusinessID': 'PI/000037864', 'BusinessName': 'The Space Bar & Gallery', 'BusinessType': 'Restaurant/Cafe/Canteen', 'BusinessTypeID': 1, 'AddressLine1': '7 The Old High Street', 'AddressLine2': 'Folkestone', 'AddressLine3': 'Kent', 'AddressLine4': '', 'PostCode': 'CT20 1RJ', 'Phone': '', 'RatingValue': 3, 'RatingKey': 'fhrs_3_en-gb', 'RatingDate': '2022-06-24T00:00:00', 'LocalAuthorityCode': '188', 'LocalAuthorityName': 'Folkestone and Hythe', 'LocalAuthorityWebSite': 'http://www.folkestone-hythe.gov.uk', 'LocalAuthorityEmailAddress': 'foodteam@folkestone-hythe.gov.uk', 'scores': {'Hygiene': 10, 'Structural': 10, 'ConfidenceInManagement': 5}, 'SchemeType': 'FHRS', 'geocode': {'longitude': 1.1822069, 'latitude': 51.0803409}, 'RightToReply': '', 'Distance': 4592.124072352034, 'NewRatingPending': False, 'meta': {'dataSource': None, 'extractDate': '0001-01-01T00:00:00', 'itemCount': 0, 'returncode': None, 'totalCount': 0, 'totalPages': 0, 'pageSize': 0, 'pageNumber': 0}, 'links': [{'rel': 'self', 'href': 'https://api.ratings.food.gov.uk/establishments/1401056'}]}\n",
      "Document with numeric ratings: {'_id': ObjectId('6498904a24b97107a60c1229'), 'FHRSID': 990687, 'ChangesByServerID': 0, 'LocalAuthorityBusinessID': 'PI/000075113', 'BusinessName': 'The Folkestone Wine Company', 'BusinessType': 'Other catering premises', 'BusinessTypeID': 7841, 'AddressLine1': 'Ground Floor Business Premises', 'AddressLine2': '5 Church Street', 'AddressLine3': 'Folkestone', 'AddressLine4': 'Kent', 'PostCode': 'CT20 1SE', 'Phone': '', 'RatingValue': 4, 'RatingKey': 'fhrs_4_en-gb', 'RatingDate': '2019-10-31T00:00:00', 'LocalAuthorityCode': '188', 'LocalAuthorityName': 'Folkestone and Hythe', 'LocalAuthorityWebSite': 'http://www.folkestone-hythe.gov.uk', 'LocalAuthorityEmailAddress': 'foodteam@folkestone-hythe.gov.uk', 'scores': {'Hygiene': 10, 'Structural': 5, 'ConfidenceInManagement': 5}, 'SchemeType': 'FHRS', 'geocode': {'longitude': 1.181365, 'latitude': 51.079542}, 'RightToReply': '', 'Distance': 4592.12476224034, 'NewRatingPending': False, 'meta': {'dataSource': None, 'extractDate': '0001-01-01T00:00:00', 'itemCount': 0, 'returncode': None, 'totalCount': 0, 'totalPages': 0, 'pageSize': 0, 'pageNumber': 0}, 'links': [{'rel': 'self', 'href': 'https://api.ratings.food.gov.uk/establishments/990687'}]}\n",
      "Document with numeric ratings: {'_id': ObjectId('6498904a24b97107a60c122a'), 'FHRSID': 728905, 'ChangesByServerID': 0, 'LocalAuthorityBusinessID': 'PI/000067625', 'BusinessName': 'County Fayre', 'BusinessType': 'Retailers - other', 'BusinessTypeID': 4613, 'AddressLine1': '3 The Old High Street', 'AddressLine2': 'Folkestone', 'AddressLine3': 'Kent', 'AddressLine4': '', 'PostCode': 'CT20 1RJ', 'Phone': '', 'RatingValue': 5, 'RatingKey': 'fhrs_5_en-gb', 'RatingDate': '2014-12-08T00:00:00', 'LocalAuthorityCode': '188', 'LocalAuthorityName': 'Folkestone and Hythe', 'LocalAuthorityWebSite': 'http://www.folkestone-hythe.gov.uk', 'LocalAuthorityEmailAddress': 'foodteam@folkestone-hythe.gov.uk', 'scores': {'Hygiene': 5, 'Structural': 0, 'ConfidenceInManagement': 5}, 'SchemeType': 'FHRS', 'geocode': {'longitude': 1.182125, 'latitude': 51.080412}, 'RightToReply': '', 'Distance': 4592.129725943966, 'NewRatingPending': False, 'meta': {'dataSource': None, 'extractDate': '0001-01-01T00:00:00', 'itemCount': 0, 'returncode': None, 'totalCount': 0, 'totalPages': 0, 'pageSize': 0, 'pageNumber': 0}, 'links': [{'rel': 'self', 'href': 'https://api.ratings.food.gov.uk/establishments/728905'}]}\n",
      "Document with numeric ratings: {'_id': ObjectId('6498904a24b97107a60c122c'), 'FHRSID': 1292455, 'ChangesByServerID': 0, 'LocalAuthorityBusinessID': 'PI/000078049', 'BusinessName': 'Sweet Rendezvous', 'BusinessType': 'Restaurant/Cafe/Canteen', 'BusinessTypeID': 1, 'AddressLine1': '5 Rendezvous Street', 'AddressLine2': 'Folkestone', 'AddressLine3': 'Kent', 'AddressLine4': '', 'PostCode': 'CT20 1EY', 'Phone': '', 'RatingValue': 5, 'RatingKey': 'fhrs_5_en-gb', 'RatingDate': '2021-07-13T00:00:00', 'LocalAuthorityCode': '188', 'LocalAuthorityName': 'Folkestone and Hythe', 'LocalAuthorityWebSite': 'http://www.folkestone-hythe.gov.uk', 'LocalAuthorityEmailAddress': 'foodteam@folkestone-hythe.gov.uk', 'scores': {'Hygiene': None, 'Structural': None, 'ConfidenceInManagement': None}, 'SchemeType': 'FHRS', 'geocode': {'longitude': 1.1813097, 'latitude': 51.0800235}, 'RightToReply': '', 'Distance': 4592.144852423555, 'NewRatingPending': False, 'meta': {'dataSource': None, 'extractDate': '0001-01-01T00:00:00', 'itemCount': 0, 'returncode': None, 'totalCount': 0, 'totalPages': 0, 'pageSize': 0, 'pageNumber': 0}, 'links': [{'rel': 'self', 'href': 'https://api.ratings.food.gov.uk/establishments/1292455'}]}\n",
      "Document with numeric ratings: {'_id': ObjectId('6498904a24b97107a60c122d'), 'FHRSID': 289384, 'ChangesByServerID': 0, 'LocalAuthorityBusinessID': 'PI/000008109', 'BusinessName': 'Plamil Foods Ltd', 'BusinessType': 'Manufacturers/packers', 'BusinessTypeID': 7839, 'AddressLine1': 'Plamil House', 'AddressLine2': 'Bowles Well Gardens', 'AddressLine3': 'Folkestone', 'AddressLine4': 'Kent', 'PostCode': 'CT19 6PQ', 'Phone': '', 'RatingValue': 5, 'RatingKey': 'fhrs_5_en-gb', 'RatingDate': '2018-02-14T00:00:00', 'LocalAuthorityCode': '188', 'LocalAuthorityName': 'Folkestone and Hythe', 'LocalAuthorityWebSite': 'http://www.folkestone-hythe.gov.uk', 'LocalAuthorityEmailAddress': 'foodteam@folkestone-hythe.gov.uk', 'scores': {'Hygiene': 0, 'Structural': 0, 'ConfidenceInManagement': 0}, 'SchemeType': 'FHRS', 'geocode': {'longitude': 1.190904, 'latitude': 51.089491}, 'RightToReply': '', 'Distance': 4592.150740218588, 'NewRatingPending': False, 'meta': {'dataSource': None, 'extractDate': '0001-01-01T00:00:00', 'itemCount': 0, 'returncode': None, 'totalCount': 0, 'totalPages': 0, 'pageSize': 0, 'pageNumber': 0}, 'links': [{'rel': 'self', 'href': 'https://api.ratings.food.gov.uk/establishments/289384'}]}\n",
      "Document with numeric ratings: {'_id': ObjectId('6498904a24b97107a60c122e'), 'FHRSID': 728906, 'ChangesByServerID': 0, 'LocalAuthorityBusinessID': 'PI/000071965', 'BusinessName': 'The Pullman', 'BusinessType': 'Pub/bar/nightclub', 'BusinessTypeID': 7843, 'AddressLine1': 'Pullman Wine Bar', 'AddressLine2': '7-9 Church Street', 'AddressLine3': 'Folkestone', 'AddressLine4': 'Kent', 'PostCode': 'CT20 1SE', 'Phone': '', 'RatingValue': 5, 'RatingKey': 'fhrs_5_en-gb', 'RatingDate': '2018-09-11T00:00:00', 'LocalAuthorityCode': '188', 'LocalAuthorityName': 'Folkestone and Hythe', 'LocalAuthorityWebSite': 'http://www.folkestone-hythe.gov.uk', 'LocalAuthorityEmailAddress': 'foodteam@folkestone-hythe.gov.uk', 'scores': {'Hygiene': 5, 'Structural': 5, 'ConfidenceInManagement': 5}, 'SchemeType': 'FHRS', 'geocode': {'longitude': 1.181365, 'latitude': 51.079542}, 'RightToReply': '', 'Distance': 4592.12476224034, 'NewRatingPending': False, 'meta': {'dataSource': None, 'extractDate': '0001-01-01T00:00:00', 'itemCount': 0, 'returncode': None, 'totalCount': 0, 'totalPages': 0, 'pageSize': 0, 'pageNumber': 0}, 'links': [{'rel': 'self', 'href': 'https://api.ratings.food.gov.uk/establishments/728906'}]}\n",
      "Document with numeric ratings: {'_id': ObjectId('6498904a24b97107a60c122f'), 'FHRSID': 987204, 'ChangesByServerID': 0, 'LocalAuthorityBusinessID': 'PI/000075579', 'BusinessName': 'Eleto Chocolate Cafe', 'BusinessType': 'Restaurant/Cafe/Canteen', 'BusinessTypeID': 1, 'AddressLine1': 'Ground Floor Business Premises', 'AddressLine2': '12-14 Rendezvous Street', 'AddressLine3': 'Folkestone', 'AddressLine4': 'Kent', 'PostCode': 'CT20 1EZ', 'Phone': '', 'RatingValue': 3, 'RatingKey': 'fhrs_3_en-gb', 'RatingDate': '2021-09-30T00:00:00', 'LocalAuthorityCode': '188', 'LocalAuthorityName': 'Folkestone and Hythe', 'LocalAuthorityWebSite': 'http://www.folkestone-hythe.gov.uk', 'LocalAuthorityEmailAddress': 'foodteam@folkestone-hythe.gov.uk', 'scores': {'Hygiene': 10, 'Structural': 5, 'ConfidenceInManagement': 10}, 'SchemeType': 'FHRS', 'geocode': {'longitude': 1.18172800540924, 'latitude': 51.0806732177734}, 'RightToReply': '', 'Distance': 4592.153998787258, 'NewRatingPending': False, 'meta': {'dataSource': None, 'extractDate': '0001-01-01T00:00:00', 'itemCount': 0, 'returncode': None, 'totalCount': 0, 'totalPages': 0, 'pageSize': 0, 'pageNumber': 0}, 'links': [{'rel': 'self', 'href': 'https://api.ratings.food.gov.uk/establishments/987204'}]}\n",
      "Document with numeric ratings: {'_id': ObjectId('6498904a24b97107a60c1230'), 'FHRSID': 534012, 'ChangesByServerID': 0, 'LocalAuthorityBusinessID': 'PI/000033543', 'BusinessName': 'Super Pizza', 'BusinessType': 'Takeaway/sandwich shop', 'BusinessTypeID': 7844, 'AddressLine1': '4 The Old High Street', 'AddressLine2': 'Folkestone', 'AddressLine3': 'Kent', 'AddressLine4': '', 'PostCode': 'CT20 1RJ', 'Phone': '', 'RatingValue': 5, 'RatingKey': 'fhrs_5_en-gb', 'RatingDate': '2021-06-14T00:00:00', 'LocalAuthorityCode': '188', 'LocalAuthorityName': 'Folkestone and Hythe', 'LocalAuthorityWebSite': 'http://www.folkestone-hythe.gov.uk', 'LocalAuthorityEmailAddress': 'foodteam@folkestone-hythe.gov.uk', 'scores': {'Hygiene': 5, 'Structural': 0, 'ConfidenceInManagement': 5}, 'SchemeType': 'FHRS', 'geocode': {'longitude': 1.182125, 'latitude': 51.080412}, 'RightToReply': '', 'Distance': 4592.129725943966, 'NewRatingPending': False, 'meta': {'dataSource': None, 'extractDate': '0001-01-01T00:00:00', 'itemCount': 0, 'returncode': None, 'totalCount': 0, 'totalPages': 0, 'pageSize': 0, 'pageNumber': 0}, 'links': [{'rel': 'self', 'href': 'https://api.ratings.food.gov.uk/establishments/534012'}]}\n",
      "Document with numeric ratings: {'_id': ObjectId('6498904a24b97107a60c1231'), 'FHRSID': 534013, 'ChangesByServerID': 0, 'LocalAuthorityBusinessID': 'PI/000036187', 'BusinessName': 'The Lanterns/Folkestone Snooker Club', 'BusinessType': 'Pub/bar/nightclub', 'BusinessTypeID': 7843, 'AddressLine1': '24A Rendezvous Street', 'AddressLine2': 'Folkestone', 'AddressLine3': 'Kent', 'AddressLine4': '', 'PostCode': 'CT20 1EZ', 'Phone': '', 'RatingValue': 5, 'RatingKey': 'fhrs_5_en-gb', 'RatingDate': '2016-05-10T00:00:00', 'LocalAuthorityCode': '188', 'LocalAuthorityName': 'Folkestone and Hythe', 'LocalAuthorityWebSite': 'http://www.folkestone-hythe.gov.uk', 'LocalAuthorityEmailAddress': 'foodteam@folkestone-hythe.gov.uk', 'scores': {'Hygiene': 5, 'Structural': 5, 'ConfidenceInManagement': 5}, 'SchemeType': 'FHRS', 'geocode': {'longitude': 1.181728, 'latitude': 51.080675}, 'RightToReply': '', 'Distance': 4592.154065888343, 'NewRatingPending': False, 'meta': {'dataSource': None, 'extractDate': '0001-01-01T00:00:00', 'itemCount': 0, 'returncode': None, 'totalCount': 0, 'totalPages': 0, 'pageSize': 0, 'pageNumber': 0}, 'links': [{'rel': 'self', 'href': 'https://api.ratings.food.gov.uk/establishments/534013'}]}\n",
      "Document with numeric ratings: {'_id': ObjectId('6498904a24b97107a60c1232'), 'FHRSID': 1285093, 'ChangesByServerID': 0, 'LocalAuthorityBusinessID': 'PI/000077932', 'BusinessName': 'Punch & Judy', 'BusinessType': 'Pub/bar/nightclub', 'BusinessTypeID': 7843, 'AddressLine1': '13 Rendezvous Street', 'AddressLine2': 'Folkestone', 'AddressLine3': 'Kent', 'AddressLine4': '', 'PostCode': 'CT20 1EY', 'Phone': '', 'RatingValue': 5, 'RatingKey': 'fhrs_5_en-gb', 'RatingDate': '2021-03-19T00:00:00', 'LocalAuthorityCode': '188', 'LocalAuthorityName': 'Folkestone and Hythe', 'LocalAuthorityWebSite': 'http://www.folkestone-hythe.gov.uk', 'LocalAuthorityEmailAddress': 'foodteam@folkestone-hythe.gov.uk', 'scores': {'Hygiene': 0, 'Structural': 5, 'ConfidenceInManagement': 0}, 'SchemeType': 'FHRS', 'geocode': {'longitude': 1.1814856, 'latitude': 51.0802346}, 'RightToReply': '', 'Distance': 4592.14636686698, 'NewRatingPending': False, 'meta': {'dataSource': None, 'extractDate': '0001-01-01T00:00:00', 'itemCount': 0, 'returncode': None, 'totalCount': 0, 'totalPages': 0, 'pageSize': 0, 'pageNumber': 0}, 'links': [{'rel': 'self', 'href': 'https://api.ratings.food.gov.uk/establishments/1285093'}]}\n",
      "Document with numeric ratings: {'_id': ObjectId('6498904a24b97107a60c1233'), 'FHRSID': 734837, 'ChangesByServerID': 0, 'LocalAuthorityBusinessID': 'PI/000072507', 'BusinessName': 'Kent Dark Chocolate Company', 'BusinessType': 'Retailers - other', 'BusinessTypeID': 4613, 'AddressLine1': 'Plamil House', 'AddressLine2': 'Bowles Well Gardens', 'AddressLine3': 'Folkestone', 'AddressLine4': 'Kent', 'PostCode': 'CT19 6PQ', 'Phone': '', 'RatingValue': 5, 'RatingKey': 'fhrs_5_en-gb', 'RatingDate': '2018-02-14T00:00:00', 'LocalAuthorityCode': '188', 'LocalAuthorityName': 'Folkestone and Hythe', 'LocalAuthorityWebSite': 'http://www.folkestone-hythe.gov.uk', 'LocalAuthorityEmailAddress': 'foodteam@folkestone-hythe.gov.uk', 'scores': {'Hygiene': 0, 'Structural': 0, 'ConfidenceInManagement': 0}, 'SchemeType': 'FHRS', 'geocode': {'longitude': 1.190904, 'latitude': 51.089491}, 'RightToReply': '', 'Distance': 4592.150740218588, 'NewRatingPending': False, 'meta': {'dataSource': None, 'extractDate': '0001-01-01T00:00:00', 'itemCount': 0, 'returncode': None, 'totalCount': 0, 'totalPages': 0, 'pageSize': 0, 'pageNumber': 0}, 'links': [{'rel': 'self', 'href': 'https://api.ratings.food.gov.uk/establishments/734837'}]}\n",
      "Document with numeric ratings: {'_id': ObjectId('6498904a24b97107a60c1234'), 'FHRSID': 943139, 'ChangesByServerID': 0, 'LocalAuthorityBusinessID': 'PI/000073771', 'BusinessName': 'Lubens', 'BusinessType': 'Restaurant/Cafe/Canteen', 'BusinessTypeID': 1, 'AddressLine1': '24 Rendezvous Street', 'AddressLine2': 'Folkestone', 'AddressLine3': 'Kent', 'AddressLine4': '', 'PostCode': 'CT20 1EZ', 'Phone': '', 'RatingValue': 5, 'RatingKey': 'fhrs_5_en-gb', 'RatingDate': '2021-03-13T00:00:00', 'LocalAuthorityCode': '188', 'LocalAuthorityName': 'Folkestone and Hythe', 'LocalAuthorityWebSite': 'http://www.folkestone-hythe.gov.uk', 'LocalAuthorityEmailAddress': 'foodteam@folkestone-hythe.gov.uk', 'scores': {'Hygiene': 5, 'Structural': 5, 'ConfidenceInManagement': 0}, 'SchemeType': 'FHRS', 'geocode': {'longitude': 1.181728, 'latitude': 51.080675}, 'RightToReply': '', 'Distance': 4592.154065888343, 'NewRatingPending': False, 'meta': {'dataSource': None, 'extractDate': '0001-01-01T00:00:00', 'itemCount': 0, 'returncode': None, 'totalCount': 0, 'totalPages': 0, 'pageSize': 0, 'pageNumber': 0}, 'links': [{'rel': 'self', 'href': 'https://api.ratings.food.gov.uk/establishments/943139'}]}\n"
     ]
    },
    {
     "name": "stderr",
     "output_type": "stream",
     "text": [
      "IOPub data rate exceeded.\n",
      "The notebook server will temporarily stop sending output\n",
      "to the client in order to avoid crashing it.\n",
      "To change this limit, set the config variable\n",
      "`--NotebookApp.iopub_data_rate_limit`.\n",
      "\n",
      "Current values:\n",
      "NotebookApp.iopub_data_rate_limit=1000000.0 (bytes/sec)\n",
      "NotebookApp.rate_limit_window=3.0 (secs)\n",
      "\n"
     ]
    }
   ],
   "source": [
    "numeric_ratings = establishments.find({'RatingValue': {\"$type\": \"number\"}})\n",
    "\n",
    "# Iterate over documents with numeric ratings\n",
    "for doc in numeric_ratings:\n",
    "    print(\"Document with numeric ratings:\", doc)\n",
    "# establishments.find_one()"
   ]
  },
  {
   "cell_type": "code",
   "execution_count": null,
   "id": "777f5d3f",
   "metadata": {},
   "outputs": [],
   "source": []
  }
 ],
 "metadata": {
  "kernelspec": {
   "display_name": "Python 3 (ipykernel)",
   "language": "python",
   "name": "python3"
  },
  "language_info": {
   "codemirror_mode": {
    "name": "ipython",
    "version": 3
   },
   "file_extension": ".py",
   "mimetype": "text/x-python",
   "name": "python",
   "nbconvert_exporter": "python",
   "pygments_lexer": "ipython3",
   "version": "3.10.10"
  }
 },
 "nbformat": 4,
 "nbformat_minor": 5
}
